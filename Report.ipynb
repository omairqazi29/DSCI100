{
 "cells": [
  {
   "cell_type": "markdown",
   "id": "c19eed28-c40b-4da8-ae38-eda3a20f1a32",
   "metadata": {},
   "source": [
    "#  Glass Classification Report"
   ]
  },
  {
   "cell_type": "markdown",
   "id": "8b28363a-dcba-476c-a060-ad926ee8f377",
   "metadata": {},
   "source": [
    "### ***note: all tables and figure should have a figure/table number and a legend"
   ]
  },
  {
   "cell_type": "markdown",
   "id": "a17fa2dc-32e0-4473-be3d-11d7f4ff5474",
   "metadata": {},
   "source": [
    "## Introduction"
   ]
  },
  {
   "cell_type": "markdown",
   "id": "480e08a7-9e81-4780-b388-1f1ac4e0d0d0",
   "metadata": {},
   "source": [
    "   Glass is a ubiquitous material that can be found at most crime scenes. The classification of glass fragments is an essential aspect of forensic investigation, particularly in cases that involve broken windows, bottles and/or any other glass objects that can be found present. It can provide crucial evidence that may help investigators identify suspects or even vindicate the innocent. Glass fragments can be found on clothing and vehicles in addition to being recovered from wounds and weapons. These fragments can provide valuable clues about the source, direction and nature of the impact that led to them to break, which can be useful to investigators when reconstructing the sequence of events leading up to the crime. However, not all glass is created equal, and the classification of glass is essential to determining its origin and potential significance as well as for ruling out false matches.\n",
    "\n",
    "   An article written by Grzegorz Zadora titled Glass analysis for forensic purposes- a comparison of classification methods states that many forensic experts analyze glass fragments under 0.5mm, therefore they must be able to accurately collect the physico-chemical features of the glass, such as Refractive Index (RI) in addition to elemental analysis. By using Scanning Electron Microscopy that has been coupled with an Energy Dispersive X-ray spectrometer (SEM-EDX), the investigators are provided with the information of major and minor elements such as Al, Mg, K, Ca and Fe. Furthermore, it is believed that obtaining the information about such elements are extremely important when comparing and individualizing the glass fragments (Zadora, G. 2007).\n",
    "\n",
    "    #talk here about what we obtain for data results.\n",
    "\n",
    "   The dataset used was sourced from the UCI Machine Learning Repository. The chosen dataset, Glass Identification (German, B. 1987) comes from the USA Forensic Science Service and classifies 6 types of glass based on their oxide content, along with the refractive index of each glass observation. Float glass is a type of glass that is produced by floating molten glass on a bed of molten metal, usually tin. This process produces high quality and uniform glass with a smooth, thick, and flat surface (Campbell, I. 2001). Float glass is widely used for windows and doors due to their many benefits of resistance to heat and breakage. In this dataset, there is no data for “vehicle_windows_non_float_processed” glass.\n",
    "\n",
    "<b>More details on the glass identification dataset:</b>\n",
    "\n",
    "<b>Glass Oxides (measured in weight percent)</b>\n",
    "<ul>\n",
    "<li>Na: Sodium</li>\n",
    "<li>Mg: Magnesium</li>\n",
    "<li>Al: Aluminum</li>\n",
    "<li>Si: Silicon</li>\n",
    "<li>K: Potassium</li>\n",
    "<li>Ca: Calcium</li>\n",
    "<li>Ba: Barium</li>\n",
    "<li>Fe: Iron</li>\n",
    "</ul>\n",
    "<b>Glass Types</b>\n",
    "<ul>\n",
    "<li>building_windows_float_processed</li>\n",
    "<li>building_windows_non_float_processed</li>\n",
    "<li>vehicle_windows_float_processed</li>\n",
    "<li>vehicle_windows_non_float_processed (**none in this dataset**)</li>\n",
    "<li>containers</li>\n",
    "<li>tableware</li>\n",
    "<li>headlamps</li>\n",
    "</ul>"
   ]
  },
  {
   "cell_type": "markdown",
   "id": "65aeabe3-15ac-4d29-ba66-bd7abbf6690c",
   "metadata": {
    "tags": []
   },
   "source": [
    "## Methods & Results"
   ]
  },
  {
   "cell_type": "code",
   "execution_count": 1,
   "id": "2f600d75-1723-4ace-a964-691bc4e30a80",
   "metadata": {},
   "outputs": [
    {
     "name": "stderr",
     "output_type": "stream",
     "text": [
      "Updating HTML index of packages in '.Library'\n",
      "\n",
      "Making 'packages.html' ...\n",
      " done\n",
      "\n",
      "── \u001b[1mAttaching packages\u001b[22m ─────────────────────────────────────── tidyverse 1.3.1 ──\n",
      "\n",
      "\u001b[32m✔\u001b[39m \u001b[34mggplot2\u001b[39m 3.3.6     \u001b[32m✔\u001b[39m \u001b[34mpurrr  \u001b[39m 0.3.4\n",
      "\u001b[32m✔\u001b[39m \u001b[34mtibble \u001b[39m 3.1.7     \u001b[32m✔\u001b[39m \u001b[34mdplyr  \u001b[39m 1.0.9\n",
      "\u001b[32m✔\u001b[39m \u001b[34mtidyr  \u001b[39m 1.2.0     \u001b[32m✔\u001b[39m \u001b[34mstringr\u001b[39m 1.4.0\n",
      "\u001b[32m✔\u001b[39m \u001b[34mreadr  \u001b[39m 2.1.2     \u001b[32m✔\u001b[39m \u001b[34mforcats\u001b[39m 0.5.1\n",
      "\n",
      "── \u001b[1mConflicts\u001b[22m ────────────────────────────────────────── tidyverse_conflicts() ──\n",
      "\u001b[31m✖\u001b[39m \u001b[34mdplyr\u001b[39m::\u001b[32mfilter()\u001b[39m masks \u001b[34mstats\u001b[39m::filter()\n",
      "\u001b[31m✖\u001b[39m \u001b[34mdplyr\u001b[39m::\u001b[32mlag()\u001b[39m    masks \u001b[34mstats\u001b[39m::lag()\n",
      "\n",
      "── \u001b[1mAttaching packages\u001b[22m ────────────────────────────────────── tidymodels 1.0.0 ──\n",
      "\n",
      "\u001b[32m✔\u001b[39m \u001b[34mbroom       \u001b[39m 1.0.0     \u001b[32m✔\u001b[39m \u001b[34mrsample     \u001b[39m 1.0.0\n",
      "\u001b[32m✔\u001b[39m \u001b[34mdials       \u001b[39m 1.0.0     \u001b[32m✔\u001b[39m \u001b[34mtune        \u001b[39m 1.0.0\n",
      "\u001b[32m✔\u001b[39m \u001b[34minfer       \u001b[39m 1.0.2     \u001b[32m✔\u001b[39m \u001b[34mworkflows   \u001b[39m 1.0.0\n",
      "\u001b[32m✔\u001b[39m \u001b[34mmodeldata   \u001b[39m 1.0.0     \u001b[32m✔\u001b[39m \u001b[34mworkflowsets\u001b[39m 1.0.0\n",
      "\u001b[32m✔\u001b[39m \u001b[34mparsnip     \u001b[39m 1.0.0     \u001b[32m✔\u001b[39m \u001b[34myardstick   \u001b[39m 1.0.0\n",
      "\u001b[32m✔\u001b[39m \u001b[34mrecipes     \u001b[39m 1.0.1     \n",
      "\n",
      "── \u001b[1mConflicts\u001b[22m ───────────────────────────────────────── tidymodels_conflicts() ──\n",
      "\u001b[31m✖\u001b[39m \u001b[34mscales\u001b[39m::\u001b[32mdiscard()\u001b[39m masks \u001b[34mpurrr\u001b[39m::discard()\n",
      "\u001b[31m✖\u001b[39m \u001b[34mdplyr\u001b[39m::\u001b[32mfilter()\u001b[39m   masks \u001b[34mstats\u001b[39m::filter()\n",
      "\u001b[31m✖\u001b[39m \u001b[34mrecipes\u001b[39m::\u001b[32mfixed()\u001b[39m  masks \u001b[34mstringr\u001b[39m::fixed()\n",
      "\u001b[31m✖\u001b[39m \u001b[34mdplyr\u001b[39m::\u001b[32mlag()\u001b[39m      masks \u001b[34mstats\u001b[39m::lag()\n",
      "\u001b[31m✖\u001b[39m \u001b[34myardstick\u001b[39m::\u001b[32mspec()\u001b[39m masks \u001b[34mreadr\u001b[39m::spec()\n",
      "\u001b[31m✖\u001b[39m \u001b[34mrecipes\u001b[39m::\u001b[32mstep()\u001b[39m   masks \u001b[34mstats\u001b[39m::step()\n",
      "\u001b[34m•\u001b[39m Search for functions across packages at \u001b[32mhttps://www.tidymodels.org/find/\u001b[39m\n",
      "\n"
     ]
    }
   ],
   "source": [
    "install.packages(\"themis\")\n",
    "library(tidyverse)\n",
    "library(repr)\n",
    "library(tidymodels)\n",
    "library(themis)"
   ]
  },
  {
   "cell_type": "markdown",
   "id": "cfca399c-6c1c-42e2-b2b0-ec1d9943cc9d",
   "metadata": {
    "tags": []
   },
   "source": [
    "#### Load Data From the Original Source"
   ]
  },
  {
   "cell_type": "markdown",
   "id": "89ab0b5e-f3ce-4010-b0ae-c02e7444e707",
   "metadata": {},
   "source": [
    "Here we load the data from the original source with new column names and visualized a few rows of raw data `glass_data_raw`."
   ]
  },
  {
   "cell_type": "code",
   "execution_count": 2,
   "id": "84d55db5-c4c9-4583-960c-e3a8a099f810",
   "metadata": {},
   "outputs": [
    {
     "data": {
      "text/html": [
       "<table class=\"dataframe\">\n",
       "<caption>A data.frame: 5 × 11</caption>\n",
       "<thead>\n",
       "\t<tr><th scope=col>id</th><th scope=col>RI</th><th scope=col>Na</th><th scope=col>Mg</th><th scope=col>Al</th><th scope=col>Si</th><th scope=col>K</th><th scope=col>Ca</th><th scope=col>Ba</th><th scope=col>Fe</th><th scope=col>glass_type</th></tr>\n",
       "\t<tr><th scope=col>&lt;int&gt;</th><th scope=col>&lt;dbl&gt;</th><th scope=col>&lt;dbl&gt;</th><th scope=col>&lt;dbl&gt;</th><th scope=col>&lt;dbl&gt;</th><th scope=col>&lt;dbl&gt;</th><th scope=col>&lt;dbl&gt;</th><th scope=col>&lt;dbl&gt;</th><th scope=col>&lt;dbl&gt;</th><th scope=col>&lt;dbl&gt;</th><th scope=col>&lt;int&gt;</th></tr>\n",
       "</thead>\n",
       "<tbody>\n",
       "\t<tr><td>155</td><td>1.51694</td><td>12.86</td><td>3.58</td><td>1.31</td><td>72.61</td><td>0.61</td><td> 8.79</td><td>0</td><td>0.00</td><td>3</td></tr>\n",
       "\t<tr><td> 68</td><td>1.52152</td><td>13.05</td><td>3.65</td><td>0.87</td><td>72.32</td><td>0.19</td><td> 9.85</td><td>0</td><td>0.17</td><td>1</td></tr>\n",
       "\t<tr><td> 61</td><td>1.51905</td><td>13.60</td><td>3.62</td><td>1.11</td><td>72.64</td><td>0.14</td><td> 8.76</td><td>0</td><td>0.00</td><td>1</td></tr>\n",
       "\t<tr><td> 71</td><td>1.51574</td><td>14.86</td><td>3.67</td><td>1.74</td><td>71.87</td><td>0.16</td><td> 7.36</td><td>0</td><td>0.12</td><td>2</td></tr>\n",
       "\t<tr><td>105</td><td>1.52410</td><td>13.83</td><td>2.90</td><td>1.17</td><td>71.15</td><td>0.08</td><td>10.79</td><td>0</td><td>0.00</td><td>2</td></tr>\n",
       "</tbody>\n",
       "</table>\n"
      ],
      "text/latex": [
       "A data.frame: 5 × 11\n",
       "\\begin{tabular}{lllllllllll}\n",
       " id & RI & Na & Mg & Al & Si & K & Ca & Ba & Fe & glass\\_type\\\\\n",
       " <int> & <dbl> & <dbl> & <dbl> & <dbl> & <dbl> & <dbl> & <dbl> & <dbl> & <dbl> & <int>\\\\\n",
       "\\hline\n",
       "\t 155 & 1.51694 & 12.86 & 3.58 & 1.31 & 72.61 & 0.61 &  8.79 & 0 & 0.00 & 3\\\\\n",
       "\t  68 & 1.52152 & 13.05 & 3.65 & 0.87 & 72.32 & 0.19 &  9.85 & 0 & 0.17 & 1\\\\\n",
       "\t  61 & 1.51905 & 13.60 & 3.62 & 1.11 & 72.64 & 0.14 &  8.76 & 0 & 0.00 & 1\\\\\n",
       "\t  71 & 1.51574 & 14.86 & 3.67 & 1.74 & 71.87 & 0.16 &  7.36 & 0 & 0.12 & 2\\\\\n",
       "\t 105 & 1.52410 & 13.83 & 2.90 & 1.17 & 71.15 & 0.08 & 10.79 & 0 & 0.00 & 2\\\\\n",
       "\\end{tabular}\n"
      ],
      "text/markdown": [
       "\n",
       "A data.frame: 5 × 11\n",
       "\n",
       "| id &lt;int&gt; | RI &lt;dbl&gt; | Na &lt;dbl&gt; | Mg &lt;dbl&gt; | Al &lt;dbl&gt; | Si &lt;dbl&gt; | K &lt;dbl&gt; | Ca &lt;dbl&gt; | Ba &lt;dbl&gt; | Fe &lt;dbl&gt; | glass_type &lt;int&gt; |\n",
       "|---|---|---|---|---|---|---|---|---|---|---|\n",
       "| 155 | 1.51694 | 12.86 | 3.58 | 1.31 | 72.61 | 0.61 |  8.79 | 0 | 0.00 | 3 |\n",
       "|  68 | 1.52152 | 13.05 | 3.65 | 0.87 | 72.32 | 0.19 |  9.85 | 0 | 0.17 | 1 |\n",
       "|  61 | 1.51905 | 13.60 | 3.62 | 1.11 | 72.64 | 0.14 |  8.76 | 0 | 0.00 | 1 |\n",
       "|  71 | 1.51574 | 14.86 | 3.67 | 1.74 | 71.87 | 0.16 |  7.36 | 0 | 0.12 | 2 |\n",
       "| 105 | 1.52410 | 13.83 | 2.90 | 1.17 | 71.15 | 0.08 | 10.79 | 0 | 0.00 | 2 |\n",
       "\n"
      ],
      "text/plain": [
       "  id  RI      Na    Mg   Al   Si    K    Ca    Ba Fe   glass_type\n",
       "1 155 1.51694 12.86 3.58 1.31 72.61 0.61  8.79 0  0.00 3         \n",
       "2  68 1.52152 13.05 3.65 0.87 72.32 0.19  9.85 0  0.17 1         \n",
       "3  61 1.51905 13.60 3.62 1.11 72.64 0.14  8.76 0  0.00 1         \n",
       "4  71 1.51574 14.86 3.67 1.74 71.87 0.16  7.36 0  0.12 2         \n",
       "5 105 1.52410 13.83 2.90 1.17 71.15 0.08 10.79 0  0.00 2         "
      ]
     },
     "metadata": {},
     "output_type": "display_data"
    }
   ],
   "source": [
    "set.seed(999)\n",
    "\n",
    "dataset_url <- \"https://archive.ics.uci.edu/ml/machine-learning-databases/glass/glass.data\"\n",
    "col_names <- c(\"id\", \"RI\", \"Na\", \"Mg\", \"Al\", \"Si\", \"K\", \"Ca\", \"Ba\", \"Fe\", \"glass_type\")\n",
    "glass_data_raw <- read.table(dataset_url, sep =\",\", header = FALSE, col.names = col_names)\n",
    "\n",
    "sample_n(glass_data_raw, 5)"
   ]
  },
  {
   "cell_type": "markdown",
   "id": "6ba83da2-7fb5-4d06-9b07-92f125a294b1",
   "metadata": {
    "tags": []
   },
   "source": [
    "#### Wrangle and Clean the Data"
   ]
  },
  {
   "cell_type": "markdown",
   "id": "3f119872-d0a9-4980-a9c7-b8615906b38e",
   "metadata": {},
   "source": [
    "Here we change the glass_type column to a factor type, remove the refractive index column (RI) and ID (id), and replace the glass_type numbers with their corresponding labels. We also visualize a few rows of `glass_data_processed`."
   ]
  },
  {
   "cell_type": "code",
   "execution_count": 3,
   "id": "e1724b42-50dc-47b1-9f34-7c704fcfdf3a",
   "metadata": {},
   "outputs": [
    {
     "data": {
      "text/html": [
       "<table class=\"dataframe\">\n",
       "<caption>A data.frame: 5 × 9</caption>\n",
       "<thead>\n",
       "\t<tr><th scope=col>Na</th><th scope=col>Mg</th><th scope=col>Al</th><th scope=col>Si</th><th scope=col>K</th><th scope=col>Ca</th><th scope=col>Ba</th><th scope=col>Fe</th><th scope=col>glass_type</th></tr>\n",
       "\t<tr><th scope=col>&lt;dbl&gt;</th><th scope=col>&lt;dbl&gt;</th><th scope=col>&lt;dbl&gt;</th><th scope=col>&lt;dbl&gt;</th><th scope=col>&lt;dbl&gt;</th><th scope=col>&lt;dbl&gt;</th><th scope=col>&lt;dbl&gt;</th><th scope=col>&lt;dbl&gt;</th><th scope=col>&lt;fct&gt;</th></tr>\n",
       "</thead>\n",
       "<tbody>\n",
       "\t<tr><td>12.86</td><td>3.58</td><td>1.31</td><td>72.61</td><td>0.61</td><td> 8.79</td><td>0</td><td>0.00</td><td>vehicle_windows_float_processed     </td></tr>\n",
       "\t<tr><td>13.05</td><td>3.65</td><td>0.87</td><td>72.32</td><td>0.19</td><td> 9.85</td><td>0</td><td>0.17</td><td>building_windows_float_processed    </td></tr>\n",
       "\t<tr><td>13.60</td><td>3.62</td><td>1.11</td><td>72.64</td><td>0.14</td><td> 8.76</td><td>0</td><td>0.00</td><td>building_windows_float_processed    </td></tr>\n",
       "\t<tr><td>14.86</td><td>3.67</td><td>1.74</td><td>71.87</td><td>0.16</td><td> 7.36</td><td>0</td><td>0.12</td><td>building_windows_non_float_processed</td></tr>\n",
       "\t<tr><td>13.83</td><td>2.90</td><td>1.17</td><td>71.15</td><td>0.08</td><td>10.79</td><td>0</td><td>0.00</td><td>building_windows_non_float_processed</td></tr>\n",
       "</tbody>\n",
       "</table>\n"
      ],
      "text/latex": [
       "A data.frame: 5 × 9\n",
       "\\begin{tabular}{lllllllll}\n",
       " Na & Mg & Al & Si & K & Ca & Ba & Fe & glass\\_type\\\\\n",
       " <dbl> & <dbl> & <dbl> & <dbl> & <dbl> & <dbl> & <dbl> & <dbl> & <fct>\\\\\n",
       "\\hline\n",
       "\t 12.86 & 3.58 & 1.31 & 72.61 & 0.61 &  8.79 & 0 & 0.00 & vehicle\\_windows\\_float\\_processed     \\\\\n",
       "\t 13.05 & 3.65 & 0.87 & 72.32 & 0.19 &  9.85 & 0 & 0.17 & building\\_windows\\_float\\_processed    \\\\\n",
       "\t 13.60 & 3.62 & 1.11 & 72.64 & 0.14 &  8.76 & 0 & 0.00 & building\\_windows\\_float\\_processed    \\\\\n",
       "\t 14.86 & 3.67 & 1.74 & 71.87 & 0.16 &  7.36 & 0 & 0.12 & building\\_windows\\_non\\_float\\_processed\\\\\n",
       "\t 13.83 & 2.90 & 1.17 & 71.15 & 0.08 & 10.79 & 0 & 0.00 & building\\_windows\\_non\\_float\\_processed\\\\\n",
       "\\end{tabular}\n"
      ],
      "text/markdown": [
       "\n",
       "A data.frame: 5 × 9\n",
       "\n",
       "| Na &lt;dbl&gt; | Mg &lt;dbl&gt; | Al &lt;dbl&gt; | Si &lt;dbl&gt; | K &lt;dbl&gt; | Ca &lt;dbl&gt; | Ba &lt;dbl&gt; | Fe &lt;dbl&gt; | glass_type &lt;fct&gt; |\n",
       "|---|---|---|---|---|---|---|---|---|\n",
       "| 12.86 | 3.58 | 1.31 | 72.61 | 0.61 |  8.79 | 0 | 0.00 | vehicle_windows_float_processed      |\n",
       "| 13.05 | 3.65 | 0.87 | 72.32 | 0.19 |  9.85 | 0 | 0.17 | building_windows_float_processed     |\n",
       "| 13.60 | 3.62 | 1.11 | 72.64 | 0.14 |  8.76 | 0 | 0.00 | building_windows_float_processed     |\n",
       "| 14.86 | 3.67 | 1.74 | 71.87 | 0.16 |  7.36 | 0 | 0.12 | building_windows_non_float_processed |\n",
       "| 13.83 | 2.90 | 1.17 | 71.15 | 0.08 | 10.79 | 0 | 0.00 | building_windows_non_float_processed |\n",
       "\n"
      ],
      "text/plain": [
       "  Na    Mg   Al   Si    K    Ca    Ba Fe   glass_type                          \n",
       "1 12.86 3.58 1.31 72.61 0.61  8.79 0  0.00 vehicle_windows_float_processed     \n",
       "2 13.05 3.65 0.87 72.32 0.19  9.85 0  0.17 building_windows_float_processed    \n",
       "3 13.60 3.62 1.11 72.64 0.14  8.76 0  0.00 building_windows_float_processed    \n",
       "4 14.86 3.67 1.74 71.87 0.16  7.36 0  0.12 building_windows_non_float_processed\n",
       "5 13.83 2.90 1.17 71.15 0.08 10.79 0  0.00 building_windows_non_float_processed"
      ]
     },
     "metadata": {},
     "output_type": "display_data"
    }
   ],
   "source": [
    "set.seed(999)\n",
    "\n",
    "glass_data_raw <- glass_data_raw |> mutate(glass_type = as_factor(glass_type))\n",
    "glass_type_names <- c(\"building_windows_float_processed\", \"building_windows_non_float_processed\", \"vehicle_windows_float_processed\", \"containers\", \"tableware\", \"headlamps\")\n",
    "glass_data_processed <- glass_data_raw |> select(-RI, -id)\n",
    "levels(glass_data_processed$glass_type) <- glass_type_names\n",
    "\n",
    "sample_n(glass_data_processed, 5)"
   ]
  },
  {
   "cell_type": "markdown",
   "id": "46be65df-710b-4527-815a-a845c3ef1f42",
   "metadata": {},
   "source": [
    "#### Data Set Summary and Exploratory Data Analysis"
   ]
  },
  {
   "cell_type": "markdown",
   "id": "b16ea73c-4b7b-4828-8236-370f6355f7ef",
   "metadata": {},
   "source": [
    "**Glass Type Counts**<br>\n",
    "\n",
    "Visualizing the glass type counts of the data set we can see that the observations of each glass type are not balanced. For examample there is a proporitionally high number of building_windows_float_processed observations and low tableware observations. This may lead to a bias towards our model predicting the higher count classes so to try and mitigate this we will use step_upsample from the themis package to balance the observations."
   ]
  },
  {
   "cell_type": "code",
   "execution_count": 4,
   "id": "c7fbe340-9a16-4e3e-aeb4-92c3a64a5caf",
   "metadata": {},
   "outputs": [
    {
     "data": {
      "text/html": [
       "<table class=\"dataframe\">\n",
       "<caption>A tibble: 6 × 2</caption>\n",
       "<thead>\n",
       "\t<tr><th scope=col>glass_type</th><th scope=col>count</th></tr>\n",
       "\t<tr><th scope=col>&lt;fct&gt;</th><th scope=col>&lt;int&gt;</th></tr>\n",
       "</thead>\n",
       "<tbody>\n",
       "\t<tr><td>building_windows_float_processed    </td><td>70</td></tr>\n",
       "\t<tr><td>building_windows_non_float_processed</td><td>76</td></tr>\n",
       "\t<tr><td>vehicle_windows_float_processed     </td><td>17</td></tr>\n",
       "\t<tr><td>containers                          </td><td>13</td></tr>\n",
       "\t<tr><td>tableware                           </td><td> 9</td></tr>\n",
       "\t<tr><td>headlamps                           </td><td>29</td></tr>\n",
       "</tbody>\n",
       "</table>\n"
      ],
      "text/latex": [
       "A tibble: 6 × 2\n",
       "\\begin{tabular}{ll}\n",
       " glass\\_type & count\\\\\n",
       " <fct> & <int>\\\\\n",
       "\\hline\n",
       "\t building\\_windows\\_float\\_processed     & 70\\\\\n",
       "\t building\\_windows\\_non\\_float\\_processed & 76\\\\\n",
       "\t vehicle\\_windows\\_float\\_processed      & 17\\\\\n",
       "\t containers                           & 13\\\\\n",
       "\t tableware                            &  9\\\\\n",
       "\t headlamps                            & 29\\\\\n",
       "\\end{tabular}\n"
      ],
      "text/markdown": [
       "\n",
       "A tibble: 6 × 2\n",
       "\n",
       "| glass_type &lt;fct&gt; | count &lt;int&gt; |\n",
       "|---|---|\n",
       "| building_windows_float_processed     | 70 |\n",
       "| building_windows_non_float_processed | 76 |\n",
       "| vehicle_windows_float_processed      | 17 |\n",
       "| containers                           | 13 |\n",
       "| tableware                            |  9 |\n",
       "| headlamps                            | 29 |\n",
       "\n"
      ],
      "text/plain": [
       "  glass_type                           count\n",
       "1 building_windows_float_processed     70   \n",
       "2 building_windows_non_float_processed 76   \n",
       "3 vehicle_windows_float_processed      17   \n",
       "4 containers                           13   \n",
       "5 tableware                             9   \n",
       "6 headlamps                            29   "
      ]
     },
     "metadata": {},
     "output_type": "display_data"
    }
   ],
   "source": [
    "glass_type_counts <- glass_data_processed |>\n",
    "    group_by(glass_type) |>\n",
    "    summarize(count = n())\n",
    "\n",
    "glass_type_counts"
   ]
  },
  {
   "cell_type": "markdown",
   "id": "31c2f8ce-2b13-40d4-919a-a61671994b8d",
   "metadata": {},
   "source": [
    "**Average Weight Percent of Oxide per Glass Type**<br>\n",
    "\n",
    "Here we visualize the average weight percentage of oxides for every glass type. This allows us to compare the average weight percent of each oxide between glass types.\n",
    "\n",
    "Based on the visualization we can see **//TODO: write some stuff about how oxide types differ and maybe choose ones that differ to use in our predictors**"
   ]
  },
  {
   "cell_type": "code",
   "execution_count": 5,
   "id": "fc964eb1-d514-469a-aebd-5dee04fa6eee",
   "metadata": {},
   "outputs": [
    {
     "name": "stderr",
     "output_type": "stream",
     "text": [
      "\u001b[1m\u001b[22m`summarise()` has grouped output by 'glass_type'. You can override using the\n",
      "`.groups` argument.\n"
     ]
    },
    {
     "data": {
      "image/png": "[encoded data removed]",
      "text/plain": [
       "plot without title"
      ]
     },
     "metadata": {
      "image/png": {
       "height": 480,
       "width": 900
      }
     },
     "output_type": "display_data"
    }
   ],
   "source": [
    "options(repr.plot.width=15, repr.plot.height=8)\n",
    "\n",
    "glass_visual_data <- glass_data_processed |>\n",
    "    pivot_longer(cols = Na:Fe, names_to = \"oxide_type\", values_to = \"weight_percent\") |>\n",
    "    group_by(glass_type, oxide_type) |>\n",
    "    summarise(mean_weight_percent = mean(weight_percent)) |>\n",
    "    ungroup()\n",
    "\n",
    "glass_visual_plot <- glass_visual_data |>\n",
    "    ggplot(aes(x = oxide_type, y = mean_weight_percent, fill = oxide_type)) +\n",
    "    geom_bar(stat = \"identity\", position = \"dodge\") +\n",
    "    labs(x = \"Oxide Type\", y = \"Average Weight Percent\", fill = \"Oxide Type\") +\n",
    "    facet_wrap(~glass_type, nrow = 2) +\n",
    "    theme(text = element_text(size = 18)) +\n",
    "    ggtitle(\"Fig 1. Average Weight Percent of Oxide per Glass Type\")\n",
    "\n",
    "glass_visual_plot"
   ]
  },
  {
   "cell_type": "markdown",
   "id": "4e7057f4-2b56-4494-9a51-057be7f9ee5d",
   "metadata": {},
   "source": [
    "To decide on what predictors we should use, we can analyze the range of values of all oxides in the original dataset.  We can assume that oxides with larger ranges of values can be better predictors of glass type. The range can be calculated by subtracting the maximum and minimum values that appear in the dataset."
   ]
  },
  {
   "cell_type": "code",
   "execution_count": 6,
   "id": "6dc8d2b7-cd72-4948-94f7-df135a371138",
   "metadata": {},
   "outputs": [
    {
     "name": "stdout",
     "output_type": "stream",
     "text": [
      "Range of values"
     ]
    },
    {
     "data": {
      "text/html": [
       "<style>\n",
       ".dl-inline {width: auto; margin:0; padding: 0}\n",
       ".dl-inline>dt, .dl-inline>dd {float: none; width: auto; display: inline-block}\n",
       ".dl-inline>dt::after {content: \":\\0020\"; padding-right: .5ex}\n",
       ".dl-inline>dt:not(:first-of-type) {padding-left: .5ex}\n",
       "</style><dl class=dl-inline><dt>Na</dt><dd>6.6</dd><dt>Mg</dt><dd>4.5</dd><dt>Al</dt><dd>3.2</dd><dt>Si</dt><dd>5.6</dd><dt>K</dt><dd>6.2</dd><dt>Ca</dt><dd>10.8</dd><dt>Ba</dt><dd>3.1</dd><dt>Fe</dt><dd>0.5</dd></dl>\n"
      ],
      "text/latex": [
       "\\begin{description*}\n",
       "\\item[Na] 6.6\n",
       "\\item[Mg] 4.5\n",
       "\\item[Al] 3.2\n",
       "\\item[Si] 5.6\n",
       "\\item[K] 6.2\n",
       "\\item[Ca] 10.8\n",
       "\\item[Ba] 3.1\n",
       "\\item[Fe] 0.5\n",
       "\\end{description*}\n"
      ],
      "text/markdown": [
       "Na\n",
       ":   6.6Mg\n",
       ":   4.5Al\n",
       ":   3.2Si\n",
       ":   5.6K\n",
       ":   6.2Ca\n",
       ":   10.8Ba\n",
       ":   3.1Fe\n",
       ":   0.5\n",
       "\n"
      ],
      "text/plain": [
       "  Na   Mg   Al   Si    K   Ca   Ba   Fe \n",
       " 6.6  4.5  3.2  5.6  6.2 10.8  3.1  0.5 "
      ]
     },
     "metadata": {},
     "output_type": "display_data"
    },
    {
     "name": "stdout",
     "output_type": "stream",
     "text": [
      "Mean value"
     ]
    },
    {
     "data": {
      "text/html": [
       "<style>\n",
       ".dl-inline {width: auto; margin:0; padding: 0}\n",
       ".dl-inline>dt, .dl-inline>dd {float: none; width: auto; display: inline-block}\n",
       ".dl-inline>dt::after {content: \":\\0020\"; padding-right: .5ex}\n",
       ".dl-inline>dt:not(:first-of-type) {padding-left: .5ex}\n",
       "</style><dl class=dl-inline><dt>Na</dt><dd>13.4</dd><dt>Mg</dt><dd>2.7</dd><dt>Al</dt><dd>1.4</dd><dt>Si</dt><dd>72.7</dd><dt>K</dt><dd>0.5</dd><dt>Ca</dt><dd>9</dd><dt>Ba</dt><dd>0.2</dd><dt>Fe</dt><dd>0.1</dd></dl>\n"
      ],
      "text/latex": [
       "\\begin{description*}\n",
       "\\item[Na] 13.4\n",
       "\\item[Mg] 2.7\n",
       "\\item[Al] 1.4\n",
       "\\item[Si] 72.7\n",
       "\\item[K] 0.5\n",
       "\\item[Ca] 9\n",
       "\\item[Ba] 0.2\n",
       "\\item[Fe] 0.1\n",
       "\\end{description*}\n"
      ],
      "text/markdown": [
       "Na\n",
       ":   13.4Mg\n",
       ":   2.7Al\n",
       ":   1.4Si\n",
       ":   72.7K\n",
       ":   0.5Ca\n",
       ":   9Ba\n",
       ":   0.2Fe\n",
       ":   0.1\n",
       "\n"
      ],
      "text/plain": [
       "  Na   Mg   Al   Si    K   Ca   Ba   Fe \n",
       "13.4  2.7  1.4 72.7  0.5  9.0  0.2  0.1 "
      ]
     },
     "metadata": {},
     "output_type": "display_data"
    }
   ],
   "source": [
    "sample <- glass_data_raw |>\n",
    "            select(-c(RI, id, glass_type))\n",
    "\n",
    "\n",
    "glass_min <- apply(sample, 2, min)\n",
    "glass_max <- apply(sample, 2, max)\n",
    "glass_range <- round(glass_max - glass_min, 1)\n",
    "glass_mean <- round(apply(sample, 2, mean), 1)\n",
    "\n",
    "cat(\"Range of values\")\n",
    "glass_range\n",
    "cat(\"Mean value\")\n",
    "glass_mean"
   ]
  },
  {
   "cell_type": "markdown",
   "id": "93f8e16d-d84b-4a9d-a3dd-3107a6f0cd30",
   "metadata": {},
   "source": [
    "#### Performing the Data Analysis"
   ]
  },
  {
   "cell_type": "markdown",
   "id": "ce8553d3-59d7-42a9-9fa2-301631eb83b4",
   "metadata": {},
   "source": [
    "**Updating the Data & Splitting the Data**<br>\n",
    "\n",
    "Here we remove Barium and Iron from the data set because our exploratory analysis shows they have the lowest range in values. The data set is then split into a training and testing set called `glass_train` and `glass_test`, respectively."
   ]
  },
  {
   "cell_type": "code",
   "execution_count": 7,
   "id": "1cbe33d0-d0b5-4adf-9dc5-20448e67c776",
   "metadata": {},
   "outputs": [],
   "source": [
    "set.seed(9999)\n",
    "\n",
    "# Reanme final processed data set to improve readability\n",
    "glass_data <- glass_data_processed\n",
    "\n",
    "# Remove Barium, and Iron\n",
    "glass_data <- glass_data |> select(-Ba, -Fe)\n",
    "\n",
    "# Split dataset into training and testing data\n",
    "glass_split <- initial_split(glass_data, prop = 0.8, strata=glass_type)\n",
    "glass_train <- training(glass_split)\n",
    "glass_test <- testing(glass_split)"
   ]
  },
  {
   "cell_type": "markdown",
   "id": "1f762a05-39a9-4eab-b44b-accfb80bc844",
   "metadata": {},
   "source": [
    "**Choosing the Optimal Number of Neighbors $k$** <br>\n",
    "\n",
    "Here we use 5-fold cross-validation on the training data set to select which 𝑘 (neighbors) is the most optimal for our data set for k-nn classification.<br>\n",
    "The steps performed:\n",
    "\n",
    "- Create model specification with tuning on the number of neighbours\n",
    "- Create a recipe that uses all predictors in `glass_data`. Here we also add steps for scaling, centering, and balancing the data.\n",
    "- Perform 5-fold cross validation\n",
    "    - Using a workflow that tries neighbours 1 through 20\n",
    "- Collect the metrics from the results of the workflow analysis\n",
    "- Extra the accuracies from the metrics into the `accuracies` object\n"
   ]
  },
  {
   "cell_type": "code",
   "execution_count": 8,
   "id": "ecfd8af2-892a-4404-aa49-17c23939e255",
   "metadata": {},
   "outputs": [
    {
     "name": "stderr",
     "output_type": "stream",
     "text": [
      "\u001b[33m!\u001b[39m \u001b[33mFold1: internal:\n",
      "  No observations were detected in `truth` for level(s): 'tableware'\n",
      "  Computation will proceed by ignoring those levels.\u001b[39m\n",
      "\n",
      "\u001b[33m!\u001b[39m \u001b[33mFold4: internal:\n",
      "  No observations were detected in `truth` for level(s): 'tableware'\n",
      "  Computation will proceed by ignoring those levels.\u001b[39m\n",
      "\n"
     ]
    }
   ],
   "source": [
    "set.seed(999)\n",
    "\n",
    "# Create model specification with tuning on the number of neighbours\n",
    "glass_spec <- nearest_neighbor(weight_func=\"rectangular\", neighbors = tune()) |>\n",
    "    set_engine(\"kknn\") |>\n",
    "    set_mode(\"classification\")\n",
    "\n",
    "# Create a recipe that uses all predictors\n",
    "glass_recipe <- recipe(glass_type ~ ., data = glass_train) |>\n",
    "    step_scale(all_predictors()) |>\n",
    "    step_center(all_predictors()) |>\n",
    "    step_upsample(glass_type)\n",
    "\n",
    "# Perform 5-fold cross validation\n",
    "vfold <- vfold_cv(glass_train, v=5, strata=glass_type)\n",
    "\n",
    "vals <- tibble(neighbors = seq(from=1, to = 20))\n",
    "\n",
    "# Create a workflow analysis trying k in vals\n",
    "knn_results <- workflow() |>\n",
    "    add_recipe(glass_recipe) |>\n",
    "    add_model(glass_spec) |>\n",
    "    tune_grid(resamples = vfold, grid = vals)\n",
    "\n",
    "# Collect the metrics\n",
    "knn_results <- knn_results |> collect_metrics()\n",
    "\n",
    "accuracies <- knn_results |>\n",
    "    filter(.metric ==\"accuracy\")"
   ]
  },
  {
   "cell_type": "markdown",
   "id": "c9b5a865-5833-48a1-b192-222acee1b0e3",
   "metadata": {},
   "source": [
    "We then plot the $k$ (neighbors) vs the accuracy. <br>\n",
    "\n",
    "Based on this graph we can see that the accuracy estimate decreases as the number of neighbors increases. The best estimated accuracy is around ~70% which is given with 1 or 2 neighbors."
   ]
  },
  {
   "cell_type": "code",
   "execution_count": 9,
   "id": "92303fba-cd09-47dc-bc04-3be30a9126b8",
   "metadata": {},
   "outputs": [
    {
     "data": {
      "image/png": "[encoded data removed]",
      "text/plain": [
       "plot without title"
      ]
     },
     "metadata": {
      "image/png": {
       "height": 480,
       "width": 900
      }
     },
     "output_type": "display_data"
    }
   ],
   "source": [
    "accuracy_vs_k <- ggplot(accuracies, aes(x = neighbors, y = mean)) +\n",
    "  geom_point() +\n",
    "  geom_line() +\n",
    "  labs(x = \"Neighbors\", y = \"Accuracy Estimate\") + \n",
    "  theme(text = element_text(size = 20)) +\n",
    "  ggtitle(\"Fig 2. Estimation of Accuracy vs. Neighbors\")\n",
    "accuracy_vs_k"
   ]
  },
  {
   "cell_type": "markdown",
   "id": "22c4d8ed-9fc3-4027-9684-303771cfa5d6",
   "metadata": {},
   "source": [
    "**Build the Model**<br>\n",
    "\n",
    "Here we first extract the number of neighbours that gives us the highest accuracy based on the `accuracies` object created. The best number of neighbors is 1. We build our model specification with the best number of neigbhors then, pass the model specification and the training data set to the fit() function."
   ]
  },
  {
   "cell_type": "code",
   "execution_count": 10,
   "id": "a1705f09-2c9d-42ea-a798-eab00d7bc25b",
   "metadata": {},
   "outputs": [],
   "source": [
    "set.seed(999)\n",
    "\n",
    "# Get the number of neighbors that gave the highest accuracy\n",
    "best_neighbors <- accuracies$neighbors[which.max(accuracies$mean)]\n",
    "\n",
    "# Build model specification with the best value for k\n",
    "knn_spec <- nearest_neighbor(weight_func = \"rectangular\", neighbors = best_neighbors) |> \n",
    "            set_engine(\"kknn\") |> \n",
    "            set_mode(\"classification\") \n",
    "\n",
    "knn_fit <- workflow() |> \n",
    "            add_recipe(glass_recipe) |> \n",
    "            add_model(knn_spec) |> \n",
    "            fit(data = glass_train) "
   ]
  },
  {
   "cell_type": "markdown",
   "id": "4605b357-57a6-450c-9398-04b0d2fac227",
   "metadata": {},
   "source": [
    "**Predicting on the Test Data**<br>\n",
    "\n",
    "We use our final model to predict on the test dataset and assign this to an object called `glass_test_predictions`. "
   ]
  },
  {
   "cell_type": "code",
   "execution_count": 11,
   "id": "11876548-131c-498e-a854-3c345d783aa2",
   "metadata": {},
   "outputs": [
    {
     "data": {
      "text/html": [
       "<table class=\"dataframe\">\n",
       "<caption>A tibble: 6 × 8</caption>\n",
       "<thead>\n",
       "\t<tr><th scope=col>.pred_class</th><th scope=col>Na</th><th scope=col>Mg</th><th scope=col>Al</th><th scope=col>Si</th><th scope=col>K</th><th scope=col>Ca</th><th scope=col>glass_type</th></tr>\n",
       "\t<tr><th scope=col>&lt;fct&gt;</th><th scope=col>&lt;dbl&gt;</th><th scope=col>&lt;dbl&gt;</th><th scope=col>&lt;dbl&gt;</th><th scope=col>&lt;dbl&gt;</th><th scope=col>&lt;dbl&gt;</th><th scope=col>&lt;dbl&gt;</th><th scope=col>&lt;fct&gt;</th></tr>\n",
       "</thead>\n",
       "<tbody>\n",
       "\t<tr><td>building_windows_float_processed    </td><td>13.27</td><td>3.62</td><td>1.24</td><td>73.08</td><td>0.55</td><td>8.07</td><td>building_windows_float_processed</td></tr>\n",
       "\t<tr><td>building_windows_non_float_processed</td><td>14.04</td><td>3.58</td><td>1.37</td><td>72.08</td><td>0.56</td><td>8.30</td><td>building_windows_float_processed</td></tr>\n",
       "\t<tr><td>building_windows_float_processed    </td><td>13.00</td><td>3.60</td><td>1.36</td><td>72.99</td><td>0.57</td><td>8.40</td><td>building_windows_float_processed</td></tr>\n",
       "\t<tr><td>building_windows_non_float_processed</td><td>12.88</td><td>3.43</td><td>1.40</td><td>73.28</td><td>0.69</td><td>8.05</td><td>building_windows_float_processed</td></tr>\n",
       "\t<tr><td>building_windows_float_processed    </td><td>12.68</td><td>3.67</td><td>1.16</td><td>73.11</td><td>0.61</td><td>8.70</td><td>building_windows_float_processed</td></tr>\n",
       "\t<tr><td>vehicle_windows_float_processed     </td><td>12.98</td><td>3.54</td><td>1.21</td><td>73.00</td><td>0.65</td><td>8.53</td><td>building_windows_float_processed</td></tr>\n",
       "</tbody>\n",
       "</table>\n"
      ],
      "text/latex": [
       "A tibble: 6 × 8\n",
       "\\begin{tabular}{llllllll}\n",
       " .pred\\_class & Na & Mg & Al & Si & K & Ca & glass\\_type\\\\\n",
       " <fct> & <dbl> & <dbl> & <dbl> & <dbl> & <dbl> & <dbl> & <fct>\\\\\n",
       "\\hline\n",
       "\t building\\_windows\\_float\\_processed     & 13.27 & 3.62 & 1.24 & 73.08 & 0.55 & 8.07 & building\\_windows\\_float\\_processed\\\\\n",
       "\t building\\_windows\\_non\\_float\\_processed & 14.04 & 3.58 & 1.37 & 72.08 & 0.56 & 8.30 & building\\_windows\\_float\\_processed\\\\\n",
       "\t building\\_windows\\_float\\_processed     & 13.00 & 3.60 & 1.36 & 72.99 & 0.57 & 8.40 & building\\_windows\\_float\\_processed\\\\\n",
       "\t building\\_windows\\_non\\_float\\_processed & 12.88 & 3.43 & 1.40 & 73.28 & 0.69 & 8.05 & building\\_windows\\_float\\_processed\\\\\n",
       "\t building\\_windows\\_float\\_processed     & 12.68 & 3.67 & 1.16 & 73.11 & 0.61 & 8.70 & building\\_windows\\_float\\_processed\\\\\n",
       "\t vehicle\\_windows\\_float\\_processed      & 12.98 & 3.54 & 1.21 & 73.00 & 0.65 & 8.53 & building\\_windows\\_float\\_processed\\\\\n",
       "\\end{tabular}\n"
      ],
      "text/markdown": [
       "\n",
       "A tibble: 6 × 8\n",
       "\n",
       "| .pred_class &lt;fct&gt; | Na &lt;dbl&gt; | Mg &lt;dbl&gt; | Al &lt;dbl&gt; | Si &lt;dbl&gt; | K &lt;dbl&gt; | Ca &lt;dbl&gt; | glass_type &lt;fct&gt; |\n",
       "|---|---|---|---|---|---|---|---|\n",
       "| building_windows_float_processed     | 13.27 | 3.62 | 1.24 | 73.08 | 0.55 | 8.07 | building_windows_float_processed |\n",
       "| building_windows_non_float_processed | 14.04 | 3.58 | 1.37 | 72.08 | 0.56 | 8.30 | building_windows_float_processed |\n",
       "| building_windows_float_processed     | 13.00 | 3.60 | 1.36 | 72.99 | 0.57 | 8.40 | building_windows_float_processed |\n",
       "| building_windows_non_float_processed | 12.88 | 3.43 | 1.40 | 73.28 | 0.69 | 8.05 | building_windows_float_processed |\n",
       "| building_windows_float_processed     | 12.68 | 3.67 | 1.16 | 73.11 | 0.61 | 8.70 | building_windows_float_processed |\n",
       "| vehicle_windows_float_processed      | 12.98 | 3.54 | 1.21 | 73.00 | 0.65 | 8.53 | building_windows_float_processed |\n",
       "\n"
      ],
      "text/plain": [
       "  .pred_class                          Na    Mg   Al   Si    K    Ca  \n",
       "1 building_windows_float_processed     13.27 3.62 1.24 73.08 0.55 8.07\n",
       "2 building_windows_non_float_processed 14.04 3.58 1.37 72.08 0.56 8.30\n",
       "3 building_windows_float_processed     13.00 3.60 1.36 72.99 0.57 8.40\n",
       "4 building_windows_non_float_processed 12.88 3.43 1.40 73.28 0.69 8.05\n",
       "5 building_windows_float_processed     12.68 3.67 1.16 73.11 0.61 8.70\n",
       "6 vehicle_windows_float_processed      12.98 3.54 1.21 73.00 0.65 8.53\n",
       "  glass_type                      \n",
       "1 building_windows_float_processed\n",
       "2 building_windows_float_processed\n",
       "3 building_windows_float_processed\n",
       "4 building_windows_float_processed\n",
       "5 building_windows_float_processed\n",
       "6 building_windows_float_processed"
      ]
     },
     "metadata": {},
     "output_type": "display_data"
    }
   ],
   "source": [
    "set.seed(999)\n",
    "\n",
    "glass_test_predictions <- predict(knn_fit, glass_test) |> \n",
    "                            bind_cols(glass_test)\n",
    "\n",
    "head(glass_test_predictions)"
   ]
  },
  {
   "cell_type": "markdown",
   "id": "c0497c4c-520e-4a8e-b6e8-4beca39c5a63",
   "metadata": {},
   "source": [
    "<br>We report the accuracy of this prediction, and store this in an object named `glass_test_metrics`.\n",
    "\n",
    "Here we can see that the accuracy of our model on the test dataset is 72.7%"
   ]
  },
  {
   "cell_type": "code",
   "execution_count": 12,
   "id": "13b4e76c-f6d6-4c5b-9c8f-55db43b4fddb",
   "metadata": {},
   "outputs": [
    {
     "data": {
      "text/html": [
       "<table class=\"dataframe\">\n",
       "<caption>A tibble: 1 × 2</caption>\n",
       "<thead>\n",
       "\t<tr><th scope=col>.metric</th><th scope=col>.estimate</th></tr>\n",
       "\t<tr><th scope=col>&lt;chr&gt;</th><th scope=col>&lt;dbl&gt;</th></tr>\n",
       "</thead>\n",
       "<tbody>\n",
       "\t<tr><td>accuracy</td><td>0.7272727</td></tr>\n",
       "</tbody>\n",
       "</table>\n"
      ],
      "text/latex": [
       "A tibble: 1 × 2\n",
       "\\begin{tabular}{ll}\n",
       " .metric & .estimate\\\\\n",
       " <chr> & <dbl>\\\\\n",
       "\\hline\n",
       "\t accuracy & 0.7272727\\\\\n",
       "\\end{tabular}\n"
      ],
      "text/markdown": [
       "\n",
       "A tibble: 1 × 2\n",
       "\n",
       "| .metric &lt;chr&gt; | .estimate &lt;dbl&gt; |\n",
       "|---|---|\n",
       "| accuracy | 0.7272727 |\n",
       "\n"
      ],
      "text/plain": [
       "  .metric  .estimate\n",
       "1 accuracy 0.7272727"
      ]
     },
     "metadata": {},
     "output_type": "display_data"
    }
   ],
   "source": [
    "set.seed(999)\n",
    "\n",
    "glass_test_metrics <- glass_test_predictions |>\n",
    "    metrics(truth = glass_type, estimate = .pred_class) |>\n",
    "    select(-.estimator) |>\n",
    "    filter(.metric == 'accuracy')\n",
    "\n",
    "glass_test_metrics"
   ]
  },
  {
   "cell_type": "markdown",
   "id": "74a005ee-f236-48a8-b778-43d6de1a18d8",
   "metadata": {},
   "source": [
    "<br>We then report the confusion matrix and and store this in an object named `glass_test_conf_mat`."
   ]
  },
  {
   "cell_type": "code",
   "execution_count": 13,
   "id": "2fdda8ef-4970-4bb6-be7a-c37d248c1777",
   "metadata": {},
   "outputs": [
    {
     "data": {
      "text/plain": [
       "                                      Truth\n",
       "Prediction                             building_windows_float_processed\n",
       "  building_windows_float_processed                                   10\n",
       "  building_windows_non_float_processed                                2\n",
       "  vehicle_windows_float_processed                                     2\n",
       "  containers                                                          0\n",
       "  tableware                                                           0\n",
       "  headlamps                                                           0\n",
       "                                      Truth\n",
       "Prediction                             building_windows_non_float_processed\n",
       "  building_windows_float_processed                                        1\n",
       "  building_windows_non_float_processed                                   12\n",
       "  vehicle_windows_float_processed                                         1\n",
       "  containers                                                              1\n",
       "  tableware                                                               1\n",
       "  headlamps                                                               0\n",
       "                                      Truth\n",
       "Prediction                             vehicle_windows_float_processed\n",
       "  building_windows_float_processed                                   0\n",
       "  building_windows_non_float_processed                               0\n",
       "  vehicle_windows_float_processed                                    2\n",
       "  containers                                                         0\n",
       "  tableware                                                          0\n",
       "  headlamps                                                          0\n",
       "                                      Truth\n",
       "Prediction                             containers tableware headlamps\n",
       "  building_windows_float_processed              0         0         0\n",
       "  building_windows_non_float_processed          0         0         1\n",
       "  vehicle_windows_float_processed               0         0         0\n",
       "  containers                                    1         0         0\n",
       "  tableware                                     0         1         0\n",
       "  headlamps                                     0         3         6"
      ]
     },
     "metadata": {},
     "output_type": "display_data"
    }
   ],
   "source": [
    "set.seed(999)\n",
    "\n",
    "glass_test_conf_mat <- glass_test_predictions |> \n",
    "    conf_mat(truth = glass_type, estimate = .pred_class)\n",
    "glass_test_conf_mat"
   ]
  },
  {
   "cell_type": "markdown",
   "id": "acb4b50e-3464-483b-a97d-3608d8ac578d",
   "metadata": {},
   "source": [
    "<br> Additonally, we get the percentages of correct predictions for each `glass_type`. "
   ]
  },
  {
   "cell_type": "code",
   "execution_count": 14,
   "id": "f844cd4d-1bbe-481e-9f84-56c2331a9722",
   "metadata": {},
   "outputs": [
    {
     "data": {
      "text/html": [
       "<table class=\"dataframe\">\n",
       "<caption>A tibble: 6 × 2</caption>\n",
       "<thead>\n",
       "\t<tr><th scope=col>glass_type</th><th scope=col>correct_pred_pct</th></tr>\n",
       "\t<tr><th scope=col>&lt;fct&gt;</th><th scope=col>&lt;dbl&gt;</th></tr>\n",
       "</thead>\n",
       "<tbody>\n",
       "\t<tr><td>building_windows_float_processed    </td><td> 71.43</td></tr>\n",
       "\t<tr><td>building_windows_non_float_processed</td><td> 75.00</td></tr>\n",
       "\t<tr><td>vehicle_windows_float_processed     </td><td>100.00</td></tr>\n",
       "\t<tr><td>containers                          </td><td>100.00</td></tr>\n",
       "\t<tr><td>tableware                           </td><td> 25.00</td></tr>\n",
       "\t<tr><td>headlamps                           </td><td> 85.71</td></tr>\n",
       "</tbody>\n",
       "</table>\n"
      ],
      "text/latex": [
       "A tibble: 6 × 2\n",
       "\\begin{tabular}{ll}\n",
       " glass\\_type & correct\\_pred\\_pct\\\\\n",
       " <fct> & <dbl>\\\\\n",
       "\\hline\n",
       "\t building\\_windows\\_float\\_processed     &  71.43\\\\\n",
       "\t building\\_windows\\_non\\_float\\_processed &  75.00\\\\\n",
       "\t vehicle\\_windows\\_float\\_processed      & 100.00\\\\\n",
       "\t containers                           & 100.00\\\\\n",
       "\t tableware                            &  25.00\\\\\n",
       "\t headlamps                            &  85.71\\\\\n",
       "\\end{tabular}\n"
      ],
      "text/markdown": [
       "\n",
       "A tibble: 6 × 2\n",
       "\n",
       "| glass_type &lt;fct&gt; | correct_pred_pct &lt;dbl&gt; |\n",
       "|---|---|\n",
       "| building_windows_float_processed     |  71.43 |\n",
       "| building_windows_non_float_processed |  75.00 |\n",
       "| vehicle_windows_float_processed      | 100.00 |\n",
       "| containers                           | 100.00 |\n",
       "| tableware                            |  25.00 |\n",
       "| headlamps                            |  85.71 |\n",
       "\n"
      ],
      "text/plain": [
       "  glass_type                           correct_pred_pct\n",
       "1 building_windows_float_processed      71.43          \n",
       "2 building_windows_non_float_processed  75.00          \n",
       "3 vehicle_windows_float_processed      100.00          \n",
       "4 containers                           100.00          \n",
       "5 tableware                             25.00          \n",
       "6 headlamps                             85.71          "
      ]
     },
     "metadata": {},
     "output_type": "display_data"
    }
   ],
   "source": [
    "glass_test_pred_correct_pct <- glass_test_predictions |> \n",
    "    group_by(glass_type) |>\n",
    "    summarize(correct_pred_pct = sum(.pred_class == glass_type)/n()) |>\n",
    "    mutate(correct_pred_pct = round(correct_pred_pct * 100,digits = 2))\n",
    "\n",
    "glass_test_pred_correct_pct"
   ]
  },
  {
   "cell_type": "markdown",
   "id": "0cd5b7ce-8835-4fde-808c-66ddc4bea64c",
   "metadata": {},
   "source": [
    "**Determine an Accuracy Baseline**"
   ]
  },
  {
   "cell_type": "markdown",
   "id": "4fdc7776-9008-4267-a821-e3ee8ed6bd06",
   "metadata": {},
   "source": [
    "Here we determine an accuracy baseline based on a model that always chooses the most common class."
   ]
  },
  {
   "cell_type": "code",
   "execution_count": 15,
   "id": "5b2d190a-e6a6-4bdb-bdba-256d027c0544",
   "metadata": {},
   "outputs": [
    {
     "data": {
      "text/html": [
       "<table class=\"dataframe\">\n",
       "<caption>A tibble: 2 × 2</caption>\n",
       "<thead>\n",
       "\t<tr><th scope=col>Model</th><th scope=col>Accuracy</th></tr>\n",
       "\t<tr><th scope=col>&lt;chr&gt;</th><th scope=col>&lt;dbl&gt;</th></tr>\n",
       "</thead>\n",
       "<tbody>\n",
       "\t<tr><td>KNN        </td><td>0.7046324</td></tr>\n",
       "\t<tr><td>Most Common</td><td>0.3636364</td></tr>\n",
       "</tbody>\n",
       "</table>\n"
      ],
      "text/latex": [
       "A tibble: 2 × 2\n",
       "\\begin{tabular}{ll}\n",
       " Model & Accuracy\\\\\n",
       " <chr> & <dbl>\\\\\n",
       "\\hline\n",
       "\t KNN         & 0.7046324\\\\\n",
       "\t Most Common & 0.3636364\\\\\n",
       "\\end{tabular}\n"
      ],
      "text/markdown": [
       "\n",
       "A tibble: 2 × 2\n",
       "\n",
       "| Model &lt;chr&gt; | Accuracy &lt;dbl&gt; |\n",
       "|---|---|\n",
       "| KNN         | 0.7046324 |\n",
       "| Most Common | 0.3636364 |\n",
       "\n"
      ],
      "text/plain": [
       "  Model       Accuracy \n",
       "1 KNN         0.7046324\n",
       "2 Most Common 0.3636364"
      ]
     },
     "metadata": {},
     "output_type": "display_data"
    }
   ],
   "source": [
    "# Get the accuracy of the KNN model with the best number of neighbors\n",
    "knn_accuracy <- accuracies$mean[which.max(accuracies$mean)]\n",
    "\n",
    "# Implementing the Most Common Class model\n",
    "# Create a table of class counts in the training data\n",
    "class_counts <- table(glass_train$glass_type)\n",
    "# Get the class with the highest count\n",
    "most_common_class <- names(which.max(class_counts))\n",
    "# Create a vector of predictions for the test data using the most common class\n",
    "most_common_predictions <- rep(most_common_class, nrow(glass_test))\n",
    "# Calculate the accuracy of the baseline model\n",
    "most_common_accuracy <- mean(most_common_predictions == glass_test$glass_type)\n",
    "\n",
    "# Create tibble with accuracies of both models\n",
    "accuracy_tbl <- tibble(Model = c(\"KNN\", \"Most Common\"),\n",
    "                       Accuracy = c(knn_accuracy, most_common_accuracy))\n",
    "accuracy_tbl"
   ]
  },
  {
   "cell_type": "markdown",
   "id": "5f995a43-497b-44da-9a54-dcefaea79045",
   "metadata": {},
   "source": [
    "The difference in accuracy between the k-NN model and the most common class baseline model provides valuable insights into the performance and effectiveness of our model. The k-NN model has an accuracy of approximately 70%, while the baseline model has an accuracy of approximately 36%. This indicates that the k-NN model is performing significantly better than the baseline model, successfully learning patterns from the data and making more informed predictions about the glass types. <br/>\n",
    "The comparison between the two models evaluates whether the k-NN model is adding value and improving upon the approach of always predicting the most common class. With a difference of about 34 percentage points, the k-NN model demonstrates its ability to capture the relationships within the data, resulting in more accurate predictions. However, an accuracy of 70% for the k-NN model might still not be high enough."
   ]
  }
 ],
 "metadata": {
  "kernelspec": {
   "display_name": "R",
   "language": "R",
   "name": "ir"
  },
  "language_info": {
   "codemirror_mode": "r",
   "file_extension": ".r",
   "mimetype": "text/x-r-source",
   "name": "R",
   "pygments_lexer": "r",
   "version": "4.1.3"
  }
 },
 "nbformat": 4,
 "nbformat_minor": 5
}
