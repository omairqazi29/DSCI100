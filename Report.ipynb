{
 "cells": [
  {
   "cell_type": "markdown",
   "id": "c19eed28-c40b-4da8-ae38-eda3a20f1a32",
   "metadata": {},
   "source": [
    "#  Glass Classification Report"
   ]
  },
  {
   "cell_type": "markdown",
   "id": "8b28363a-dcba-476c-a060-ad926ee8f377",
   "metadata": {},
   "source": [
    "### ***note: all tables and figure should have a figure/table number and a legend"
   ]
  },
  {
   "cell_type": "markdown",
   "id": "a17fa2dc-32e0-4473-be3d-11d7f4ff5474",
   "metadata": {},
   "source": [
    "## Introduction"
   ]
  },
  {
   "cell_type": "markdown",
   "id": "480e08a7-9e81-4780-b388-1f1ac4e0d0d0",
   "metadata": {},
   "source": [
    "   Glass is a ubiquitous material that can be found at most crime scenes. The classification of glass fragments is an essential aspect of forensic investigation, particularly in cases that involve broken windows, bottles and/or any other glass objects that can be found present. It can provide crucial evidence that may help investigators identify suspects or even vindicate the innocent. Glass fragments can be found on clothing and vehicles in addition to being recovered from wounds and weapons. These fragments can provide valuable clues about the source, direction and nature of the impact that led to them to break, which can be useful to investigators when reconstructing the sequence of events leading up to the crime. However, not all glass is created equal, and the classification of glass is essential to determining its origin and potential significance as well as for ruling out false matches.\n",
    "\n",
    "   An article written by Grzegorz Zadora titled Glass analysis for forensic purposes- a comparison of classification methods states that many forensic experts analyze glass fragments under 0.5mm, therefore they must be able to accurately collect the physico-chemical features of the glass, such as Refractive Index (RI) in addition to elemental analysis. By using Scanning Electron Microscopy that has been coupled with an Energy Dispersive X-ray spectrometer (SEM-EDX), the investigators are provided with the information of major and minor elements such as Al, Mg, K, Ca and Fe. Furthermore, it is believed that obtaining the information about such elements are extremely important when comparing and individualizing the glass fragments (Zadora, G. 2007).\n",
    "\n",
    "    #talk here about what we obtain for data results.\n",
    "\n",
    "   The dataset used was sourced from the UCI Machine Learning Repository. The chosen dataset, Glass Identification comes from the USA Forensic Science Service and classifies 6 types of glass based on their oxide content, along with the refractive index of each glass observation. Also note that float-processing is a glass manufacturing process that creates a smooth, thick and uniform surface. In this dataset, there is no data for “vehicle_windows_non_float_processed” glass.\n",
    "\n",
    "<b>More details on the glass identification dataset:</b>\n",
    "\n",
    "<b>Glass Oxides (measured in weight percent)</b>\n",
    "<ul>\n",
    "<li>Na: Sodium</li>\n",
    "<li>Mg: Magnesium</li>\n",
    "<li>Al: Aluminum</li>\n",
    "<li>Si: Silicon</li>\n",
    "<li>K: Potassium</li>\n",
    "<li>Ca: Calcium</li>\n",
    "<li>Ba: Barium</li>\n",
    "<li>Fe: Iron</li>\n",
    "</ul>\n",
    "<b>Glass Types</b>\n",
    "<ul>\n",
    "<li>building_windows_float_processed</li>\n",
    "<li>building_windows_non_float_processed</li>\n",
    "<li>vehicle_windows_float_processed</li>\n",
    "<li>vehicle_windows_non_float_processed (**none in this dataset**)</li>\n",
    "<li>containers</li>\n",
    "<li>tableware</li>\n",
    "<li>headlamps</li>\n",
    "</ul>"
   ]
  },
  {
   "cell_type": "markdown",
   "id": "65aeabe3-15ac-4d29-ba66-bd7abbf6690c",
   "metadata": {
    "tags": []
   },
   "source": [
    "## Methods & Results"
   ]
  },
  {
   "cell_type": "code",
   "execution_count": null,
   "id": "2f600d75-1723-4ace-a964-691bc4e30a80",
   "metadata": {},
   "outputs": [],
   "source": [
    "library(tidyverse)\n",
    "library(repr)\n",
    "library(tidymodels)\n",
    "install.packages(\"themis\")\n",
    "library(themis)"
   ]
  },
  {
   "cell_type": "markdown",
   "id": "cfca399c-6c1c-42e2-b2b0-ec1d9943cc9d",
   "metadata": {
    "jp-MarkdownHeadingCollapsed": true,
    "tags": []
   },
   "source": [
    "#### Load Data From the Original Source"
   ]
  },
  {
   "cell_type": "markdown",
   "id": "89ab0b5e-f3ce-4010-b0ae-c02e7444e707",
   "metadata": {},
   "source": [
    "Here we load the data from the original source with new column names and visualized a few rows of raw data `glass_data_raw`."
   ]
  },
  {
   "cell_type": "code",
   "execution_count": null,
   "id": "84d55db5-c4c9-4583-960c-e3a8a099f810",
   "metadata": {},
   "outputs": [],
   "source": [
    "set.seed(999)\n",
    "\n",
    "dataset_url <- \"https://archive.ics.uci.edu/ml/machine-learning-databases/glass/glass.data\"\n",
    "col_names <- c(\"id\", \"RI\", \"Na\", \"Mg\", \"Al\", \"Si\", \"K\", \"Ca\", \"Ba\", \"Fe\", \"glass_type\")\n",
    "glass_data_raw <- read.table(dataset_url, sep =\",\", header = FALSE, col.names = col_names)\n",
    "\n",
    "sample_n(glass_data_raw, 5)"
   ]
  },
  {
   "cell_type": "markdown",
   "id": "6ba83da2-7fb5-4d06-9b07-92f125a294b1",
   "metadata": {
    "jp-MarkdownHeadingCollapsed": true,
    "tags": []
   },
   "source": [
    "#### Wrangle and Clean the Data"
   ]
  },
  {
   "cell_type": "markdown",
   "id": "3f119872-d0a9-4980-a9c7-b8615906b38e",
   "metadata": {},
   "source": [
    "Here we change the glass_type column to a factor type, remove the refractive index column (RI) and ID (id), and replace the glass_type numbers with their corresponding labels. We also visualize a few rows of `glass_data_processed`."
   ]
  },
  {
   "cell_type": "code",
   "execution_count": null,
   "id": "e1724b42-50dc-47b1-9f34-7c704fcfdf3a",
   "metadata": {},
   "outputs": [],
   "source": [
    "set.seed(999)\n",
    "\n",
    "glass_data_raw <- glass_data_raw |> mutate(glass_type = as_factor(glass_type))\n",
    "glass_type_names <- c(\"building_windows_float_processed\", \"building_windows_non_float_processed\", \"vehicle_windows_float_processed\", \"containers\", \"tableware\", \"headlamps\")\n",
    "glass_data_processed <- glass_data_raw |> select(-RI, -id)\n",
    "levels(glass_data_processed$glass_type) <- glass_type_names\n",
    "\n",
    "sample_n(glass_data_processed, 5)"
   ]
  },
  {
   "cell_type": "markdown",
   "id": "46be65df-710b-4527-815a-a845c3ef1f42",
   "metadata": {},
   "source": [
    "#### Data Set Summary and Exploratory Data Analysis"
   ]
  },
  {
   "cell_type": "markdown",
   "id": "b16ea73c-4b7b-4828-8236-370f6355f7ef",
   "metadata": {},
   "source": [
    "**Glass Type Counts**<br>\n",
    "\n",
    "Visualizing the glass type counts of the data set we can see that the observations of each glass type are not balanced. For examample there is a proporitionally high number of building_windows_float_processed observations and low tableware observations. This may lead to a bias towards our model predicting the higher count classes so to try and mitigate this we will use step_upsample from the themis package to balance the observations."
   ]
  },
  {
   "cell_type": "code",
   "execution_count": null,
   "id": "c7fbe340-9a16-4e3e-aeb4-92c3a64a5caf",
   "metadata": {},
   "outputs": [],
   "source": [
    "glass_type_counts <- glass_data_processed |>\n",
    "    group_by(glass_type) |>\n",
    "    summarize(count = n())\n",
    "\n",
    "glass_type_counts"
   ]
  },
  {
   "cell_type": "markdown",
   "id": "31c2f8ce-2b13-40d4-919a-a61671994b8d",
   "metadata": {},
   "source": [
    "**Average Weight Percent of Oxide per Glass Type**<br>\n",
    "\n",
    "Here we visualize the average weight percentage of oxides for every glass type. This allows us to compare the average weight percent of each oxide between glass types.\n",
    "\n",
    "Based on the visualization we can see **//TODO: write some stuff about how oxide types differ and maybe choose ones that differ to use in our predictors**"
   ]
  },
  {
   "cell_type": "code",
   "execution_count": null,
   "id": "fc964eb1-d514-469a-aebd-5dee04fa6eee",
   "metadata": {},
   "outputs": [],
   "source": [
    "options(repr.plot.width=15, repr.plot.height=8)\n",
    "\n",
    "glass_visual_data <- glass_data_processed |>\n",
    "    pivot_longer(cols = Na:Fe, names_to = \"oxide_type\", values_to = \"weight_percent\") |>\n",
    "    group_by(glass_type, oxide_type) |>\n",
    "    summarise(mean_weight_percent = mean(weight_percent)) |>\n",
    "    ungroup()\n",
    "\n",
    "glass_visual_plot <- glass_visual_data |>\n",
    "    ggplot(aes(x = oxide_type, y = mean_weight_percent, fill = oxide_type)) +\n",
    "    geom_bar(stat = \"identity\", position = \"dodge\") +\n",
    "    labs(x = \"Oxide Type\", y = \"Average Weight Percent\", fill = \"Oxide Type\") +\n",
    "    facet_wrap(~glass_type, nrow = 2) +\n",
    "    theme(text = element_text(size = 18)) +\n",
    "    ggtitle(\"Fig 1. Average Weight Percent of Oxide per Glass Type\")\n",
    "\n",
    "glass_visual_plot"
   ]
  },
  {
   "cell_type": "markdown",
   "id": "4e7057f4-2b56-4494-9a51-057be7f9ee5d",
   "metadata": {},
   "source": [
    "**TODO: Any other exploratory analysis we can do?**"
   ]
  },
  {
   "cell_type": "markdown",
   "id": "93f8e16d-d84b-4a9d-a3dd-3107a6f0cd30",
   "metadata": {},
   "source": [
    "#### Performing the Data Analysis"
   ]
  },
  {
   "cell_type": "markdown",
   "id": "ce8553d3-59d7-42a9-9fa2-301631eb83b4",
   "metadata": {},
   "source": [
    "**Splitting the Data**<br>\n",
    "\n",
    "Here we split the original data set into a training and testing set called `glass_train` and `glass_test`, respectively."
   ]
  },
  {
   "cell_type": "code",
   "execution_count": null,
   "id": "1cbe33d0-d0b5-4adf-9dc5-20448e67c776",
   "metadata": {},
   "outputs": [],
   "source": [
    "# reanme final processed data set to improve readability\n",
    "glass_data <- glass_data_processed\n",
    "\n",
    "# split dataset into training and testing data\n",
    "glass_split <- initial_split(glass_data, prop = 0.8, strata=glass_type)\n",
    "glass_train <- training(glass_split)\n",
    "glass_test <- testing(glass_split)"
   ]
  },
  {
   "cell_type": "markdown",
   "id": "1f762a05-39a9-4eab-b44b-accfb80bc844",
   "metadata": {},
   "source": [
    "**Choosing the Optimal Number of Neighbors $k$** <br>\n",
    "\n",
    "Here we use 5-fold cross-validation on the training data set to select which 𝑘 (neighbors) is the most optimal for our data set for k-nn classification.\n",
    "\n",
    "**TODO: List steps performed (comments)**"
   ]
  },
  {
   "cell_type": "code",
   "execution_count": null,
   "id": "ecfd8af2-892a-4404-aa49-17c23939e255",
   "metadata": {},
   "outputs": [],
   "source": [
    "set.seed(999)\n",
    "\n",
    "# Create model specification with tuning on the number of neighbours\n",
    "glass_spec <- nearest_neighbor(weight_func=\"rectangular\", neighbors = tune()) |>\n",
    "    set_engine(\"kknn\") |>\n",
    "    set_mode(\"classification\")\n",
    "\n",
    "# Create a recipe that uses all predictors\n",
    "glass_recipe <- recipe(glass_type ~ ., data = glass_train) |>\n",
    "    step_scale(all_predictors()) |>\n",
    "    step_center(all_predictors()) |>\n",
    "    step_upsample(glass_type)\n",
    "\n",
    "# Perform 5-fold cross validation\n",
    "vfold <- vfold_cv(glass_train, v=5, strata=glass_type)\n",
    "\n",
    "vals <- tibble(neighbors = seq(from=1, to = 20))\n",
    "\n",
    "# Create a workflow analysis trying k in vals\n",
    "knn_results <- workflow() |>\n",
    "    add_recipe(glass_recipe) |>\n",
    "    add_model(glass_spec) |>\n",
    "    tune_grid(resamples = vfold, grid = vals)\n",
    "\n",
    "# Collect the metrics from the workflow analysis \n",
    "knn_results <- knn_results |> collect_metrics()\n",
    "\n",
    "accuracies <- knn_results |>\n",
    "    filter(.metric ==\"accuracy\")"
   ]
  },
  {
   "cell_type": "markdown",
   "id": "c9b5a865-5833-48a1-b192-222acee1b0e3",
   "metadata": {},
   "source": [
    "We then plot the $k$ (neighbors) vs the accuracy. \n",
    "**TODO: write some analylsis comments about the graph**"
   ]
  },
  {
   "cell_type": "code",
   "execution_count": null,
   "id": "92303fba-cd09-47dc-bc04-3be30a9126b8",
   "metadata": {},
   "outputs": [],
   "source": [
    "accuracy_vs_k <- ggplot(accuracies, aes(x = neighbors, y = mean)) +\n",
    "  geom_point() +\n",
    "  geom_line() +\n",
    "  labs(x = \"Neighbors\", y = \"Accuracy Estimate\") + \n",
    "  theme(text = element_text(size = 20)) +\n",
    "  ggtitle(\"Fig 2. Estimation of Accuracy vs. Neighbors\")\n",
    "accuracy_vs_k"
   ]
  },
  {
   "cell_type": "markdown",
   "id": "22c4d8ed-9fc3-4027-9684-303771cfa5d6",
   "metadata": {},
   "source": [
    "**Build the Model**"
   ]
  },
  {
   "cell_type": "code",
   "execution_count": null,
   "id": "a1705f09-2c9d-42ea-a798-eab00d7bc25b",
   "metadata": {},
   "outputs": [],
   "source": [
    "set.seed(999)\n",
    "\n",
    "# Get the number of neighbors that gave the highest accuracy\n",
    "best_neighbors <- accuracies$neighbors[which.max(accuracies$mean)]\n",
    "\n",
    "# Build model specification with the best value for k\n",
    "knn_spec <- nearest_neighbor(weight_func = \"rectangular\", neighbors = best_neighbors) |> \n",
    "            set_engine(\"kknn\") |> \n",
    "            set_mode(\"classification\") \n",
    "\n",
    "knn_fit <- workflow() |> \n",
    "            add_recipe(glass_recipe) |> \n",
    "            add_model(knn_spec) |> \n",
    "            fit(data = glass_train) "
   ]
  },
  {
   "cell_type": "markdown",
   "id": "4605b357-57a6-450c-9398-04b0d2fac227",
   "metadata": {},
   "source": [
    "**Predicting on the Test Data**<br>\n",
    "\n",
    "We use our final model to predict on the test dataset and assign this to an object called `glass_test_predictions`. We report the accuracy of this prediction, and store this in an object named `glass_test_metrics`. We also report the confusion matrix and and store this in an object named `glass_test_conf_mat`. "
   ]
  },
  {
   "cell_type": "code",
   "execution_count": null,
   "id": "11876548-131c-498e-a854-3c345d783aa2",
   "metadata": {},
   "outputs": [],
   "source": [
    "set.seed(999)\n",
    "\n",
    "glass_test_predictions <- predict(knn_fit, glass_test) |> \n",
    "                            bind_cols(glass_test)\n",
    "\n",
    "glass_test_metrics <- glass_test_predictions |>\n",
    "    metrics(truth = glass_type, estimate = .pred_class)\n",
    "\n",
    "glass_test_conf_mat <- glass_test_predictions |> \n",
    "    conf_mat(truth = glass_type, estimate = .pred_class)\n",
    "\n",
    "\n",
    "head(glass_test_predictions)\n",
    "glass_test_metrics\n",
    "glass_test_conf_mat\n",
    "\n",
    "#Using algorithm on test data with k = 1 and creating a confusion matrix\n",
    "#Not sure how useful this section so feel free to take it out if it doesn't seem to helpful\n",
    "#I was thinking it might be helpful for the written portion of our report to show where the inaccuracies in our model are primarily coming from\n",
    "#We can directly see that glass types with fewer observations have more unpredictable \n",
    "#accuracies, but generally have lower accuracies\n",
    "#The concern with having certain glass types overrepresented in dataset is that they would skew results of predictions towards them. Even though \n",
    "#building_windows_float_processed and building_windows_non_float_processed are the most represented, not all of the largest errors come in these categories. "
   ]
  },
  {
   "cell_type": "markdown",
   "id": "0cd5b7ce-8835-4fde-808c-66ddc4bea64c",
   "metadata": {},
   "source": [
    "**Determine an Accuracy Baseline**"
   ]
  },
  {
   "cell_type": "markdown",
   "id": "4fdc7776-9008-4267-a821-e3ee8ed6bd06",
   "metadata": {},
   "source": [
    "Here we determine an accuracy baseline based on a model that always chooses the most common class."
   ]
  },
  {
   "cell_type": "code",
   "execution_count": null,
   "id": "5b2d190a-e6a6-4bdb-bdba-256d027c0544",
   "metadata": {},
   "outputs": [],
   "source": [
    "# COMMENT IF THE FOLLOWING DOESN'T MAKES SENSE\n",
    "\n",
    "# Get the accuracy of the KNN model with the best number of neighbors\n",
    "knn_accuracy <- accuracies$mean[which.max(accuracies$mean)]\n",
    "\n",
    "# Implementing the Most Common Class model\n",
    "# Create a table of class counts in the training data\n",
    "class_counts <- table(glass_train$glass_type)\n",
    "# Get the class with the highest count\n",
    "most_common_class <- names(which.max(class_counts))\n",
    "# Create a vector of predictions for the test data using the most common class\n",
    "most_common_predictions <- rep(most_common_class, nrow(glass_test))\n",
    "# Calculate the accuracy of the baseline model\n",
    "most_common_accuracy <- mean(most_common_predictions == glass_test$glass_type)\n",
    "\n",
    "accuracy_tbl <- tibble(Model = c(\"KNN\", \"Most Common\"),\n",
    "                       Accuracy = c(knn_accuracy, most_common_accuracy)) #!!!\n",
    "accuracy_tbl"
   ]
  },
  {
   "cell_type": "code",
   "execution_count": null,
   "id": "69a22a1e-2e77-425e-81f1-44987ddd87b8",
   "metadata": {},
   "outputs": [],
   "source": []
  }
 ],
 "metadata": {
  "kernelspec": {
   "display_name": "R",
   "language": "R",
   "name": "ir"
  },
  "language_info": {
   "codemirror_mode": "r",
   "file_extension": ".r",
   "mimetype": "text/x-r-source",
   "name": "R",
   "pygments_lexer": "r",
   "version": "4.1.3"
  }
 },
 "nbformat": 4,
 "nbformat_minor": 5
}
