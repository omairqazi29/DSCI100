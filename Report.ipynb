{
 "cells": [
  {
   "cell_type": "markdown",
   "id": "c19eed28-c40b-4da8-ae38-eda3a20f1a32",
   "metadata": {},
   "source": [
    "#  Glass Classification Report"
   ]
  },
  {
   "cell_type": "markdown",
   "id": "a17fa2dc-32e0-4473-be3d-11d7f4ff5474",
   "metadata": {},
   "source": [
    "## Introduction"
   ]
  },
  {
   "cell_type": "markdown",
   "id": "480e08a7-9e81-4780-b388-1f1ac4e0d0d0",
   "metadata": {},
   "source": [
    "The classification of glass types can be incredibly important during criminological investigations. At the scene of a crime, glass can be used as evidence so it is important to correctly determine if two or more glass fragments originated from different sources. This can lead to identifying methods of escape, murder weapons, and other pieces of conclusive evidence.  \n",
    "\n",
    "Our goal is to create a model that is successful in identifying glass samples obtained from a crime scene based on the weight percentages of 8 corresponding oxides. More specifically, we hope to answer the question: Given the weight percent of 8 glass oxides from a glass sample, which of the 6 glass types is it?  \n",
    "\n",
    "The particular dataset we have chosen comes from the USA Forensic Science Service and classifies 6 types of glass based on their oxide content (see below for more details). The dataset also contains the refractive index of each glass observation.\n",
    "\n",
    "Note that float-processing is a glass manufacturing process that creates a smooth, thick and uniform surface. In this dataset, there is no data for “vehicle_windows_non_float_processed” glass.\n",
    "\n",
    "<b>More details on the glass identification dataset:</b>\n",
    "\n",
    "<b>Glass Oxides (measured in weight percent)</b>\n",
    "<ul>\n",
    "<li>Na: Sodium</li>\n",
    "<li>Mg: Magnesium</li>\n",
    "<li>Al: Aluminum</li>\n",
    "<li>Si: Silicon</li>\n",
    "<li>K: Potassium</li>\n",
    "<li>Ca: Calcium</li>\n",
    "<li>Ba: Barium</li>\n",
    "<li>Fe: Iron</li>\n",
    "</ul>\n",
    "<b>Glass Types</b>\n",
    "<ul>\n",
    "<li>building_windows_float_processed</li>\n",
    "<li>building_windows_non_float_processed</li>\n",
    "<li>vehicle_windows_float_processed</li>\n",
    "<li>vehicle_windows_non_float_processed (**none in this dataset**)</li>\n",
    "<li>containers</li>\n",
    "<li>tableware</li>\n",
    "<li>headlamps</li>\n",
    "</ul>"
   ]
  },
  {
   "cell_type": "markdown",
   "id": "65aeabe3-15ac-4d29-ba66-bd7abbf6690c",
   "metadata": {},
   "source": [
    "## Methods & Results"
   ]
  },
  {
   "cell_type": "code",
   "execution_count": 2,
   "id": "2f600d75-1723-4ace-a964-691bc4e30a80",
   "metadata": {},
   "outputs": [
    {
     "name": "stderr",
     "output_type": "stream",
     "text": [
      "── \u001b[1mAttaching packages\u001b[22m ─────────────────────────────────────── tidyverse 1.3.1 ──\n",
      "\n",
      "\u001b[32m✔\u001b[39m \u001b[34mggplot2\u001b[39m 3.3.6     \u001b[32m✔\u001b[39m \u001b[34mpurrr  \u001b[39m 0.3.4\n",
      "\u001b[32m✔\u001b[39m \u001b[34mtibble \u001b[39m 3.1.7     \u001b[32m✔\u001b[39m \u001b[34mdplyr  \u001b[39m 1.0.9\n",
      "\u001b[32m✔\u001b[39m \u001b[34mtidyr  \u001b[39m 1.2.0     \u001b[32m✔\u001b[39m \u001b[34mstringr\u001b[39m 1.4.0\n",
      "\u001b[32m✔\u001b[39m \u001b[34mreadr  \u001b[39m 2.1.2     \u001b[32m✔\u001b[39m \u001b[34mforcats\u001b[39m 0.5.1\n",
      "\n",
      "── \u001b[1mConflicts\u001b[22m ────────────────────────────────────────── tidyverse_conflicts() ──\n",
      "\u001b[31m✖\u001b[39m \u001b[34mdplyr\u001b[39m::\u001b[32mfilter()\u001b[39m masks \u001b[34mstats\u001b[39m::filter()\n",
      "\u001b[31m✖\u001b[39m \u001b[34mdplyr\u001b[39m::\u001b[32mlag()\u001b[39m    masks \u001b[34mstats\u001b[39m::lag()\n",
      "\n",
      "── \u001b[1mAttaching packages\u001b[22m ────────────────────────────────────── tidymodels 1.0.0 ──\n",
      "\n",
      "\u001b[32m✔\u001b[39m \u001b[34mbroom       \u001b[39m 1.0.0     \u001b[32m✔\u001b[39m \u001b[34mrsample     \u001b[39m 1.0.0\n",
      "\u001b[32m✔\u001b[39m \u001b[34mdials       \u001b[39m 1.0.0     \u001b[32m✔\u001b[39m \u001b[34mtune        \u001b[39m 1.0.0\n",
      "\u001b[32m✔\u001b[39m \u001b[34minfer       \u001b[39m 1.0.2     \u001b[32m✔\u001b[39m \u001b[34mworkflows   \u001b[39m 1.0.0\n",
      "\u001b[32m✔\u001b[39m \u001b[34mmodeldata   \u001b[39m 1.0.0     \u001b[32m✔\u001b[39m \u001b[34mworkflowsets\u001b[39m 1.0.0\n",
      "\u001b[32m✔\u001b[39m \u001b[34mparsnip     \u001b[39m 1.0.0     \u001b[32m✔\u001b[39m \u001b[34myardstick   \u001b[39m 1.0.0\n",
      "\u001b[32m✔\u001b[39m \u001b[34mrecipes     \u001b[39m 1.0.1     \n",
      "\n",
      "── \u001b[1mConflicts\u001b[22m ───────────────────────────────────────── tidymodels_conflicts() ──\n",
      "\u001b[31m✖\u001b[39m \u001b[34mscales\u001b[39m::\u001b[32mdiscard()\u001b[39m masks \u001b[34mpurrr\u001b[39m::discard()\n",
      "\u001b[31m✖\u001b[39m \u001b[34mdplyr\u001b[39m::\u001b[32mfilter()\u001b[39m   masks \u001b[34mstats\u001b[39m::filter()\n",
      "\u001b[31m✖\u001b[39m \u001b[34mrecipes\u001b[39m::\u001b[32mfixed()\u001b[39m  masks \u001b[34mstringr\u001b[39m::fixed()\n",
      "\u001b[31m✖\u001b[39m \u001b[34mdplyr\u001b[39m::\u001b[32mlag()\u001b[39m      masks \u001b[34mstats\u001b[39m::lag()\n",
      "\u001b[31m✖\u001b[39m \u001b[34myardstick\u001b[39m::\u001b[32mspec()\u001b[39m masks \u001b[34mreadr\u001b[39m::spec()\n",
      "\u001b[31m✖\u001b[39m \u001b[34mrecipes\u001b[39m::\u001b[32mstep()\u001b[39m   masks \u001b[34mstats\u001b[39m::step()\n",
      "\u001b[34m•\u001b[39m Search for functions across packages at \u001b[32mhttps://www.tidymodels.org/find/\u001b[39m\n",
      "\n"
     ]
    }
   ],
   "source": [
    "library(tidyverse)\n",
    "library(repr)\n",
    "library(tidymodels)"
   ]
  },
  {
   "cell_type": "markdown",
   "id": "cfca399c-6c1c-42e2-b2b0-ec1d9943cc9d",
   "metadata": {},
   "source": [
    "#### Load data from the original source on the web "
   ]
  },
  {
   "cell_type": "code",
   "execution_count": 3,
   "id": "84d55db5-c4c9-4583-960c-e3a8a099f810",
   "metadata": {},
   "outputs": [],
   "source": [
    "dataset_url <- \"https://archive.ics.uci.edu/ml/machine-learning-databases/glass/glass.data\"\n",
    "col_names <- c(\"id\", \"RI\", \"Na\", \"Mg\", \"Al\", \"Si\", \"K\", \"Ca\", \"Ba\", \"Fe\", \"glass_type\")\n",
    "glass_data_raw <- read.table(dataset_url, sep =\",\", header = FALSE, col.names = col_names) |>\n",
    "    mutate(glass_type = as_factor(glass_type))\n",
    "\n",
    "glass_type_names <- c(\"building_windows_float_processed\", \"building_windows_non_float_processed\", \"vehicle_windows_float_processed\", \"containers\", \"tableware\", \"headlamps\")\n",
    "glass_data_processed <- glass_data_raw |> select(-RI)\n",
    "levels(glass_data_processed$glass_type) <- glass_type_names"
   ]
  },
  {
   "cell_type": "markdown",
   "id": "15b614fe-2871-4330-b176-3bda4d2448ad",
   "metadata": {},
   "source": [
    "\n",
    "### ***note: all tables and figure should have a figure/table number and a legend"
   ]
  },
  {
   "cell_type": "markdown",
   "id": "76abb28d-b0ed-4f0b-8089-d0a8a0d4253b",
   "metadata": {},
   "source": [
    "#### Wrangle and clean the data from its original (downloaded) format to the format necessary for the planned analysis"
   ]
  },
  {
   "cell_type": "markdown",
   "id": "46be65df-710b-4527-815a-a845c3ef1f42",
   "metadata": {},
   "source": [
    "#### Perform a summary of the data set that is relevant for exploratory data analysis related to the planned analysis "
   ]
  },
  {
   "cell_type": "markdown",
   "id": "f19f48f5-86da-4ca7-95b6-63ae0442cc71",
   "metadata": {},
   "source": [
    "#### Create a visualization of the dataset that is relevant for exploratory data analysis related to the planned analysis"
   ]
  },
  {
   "cell_type": "markdown",
   "id": "93f8e16d-d84b-4a9d-a3dd-3107a6f0cd30",
   "metadata": {},
   "source": [
    "#### Perform the data analysis"
   ]
  },
  {
   "cell_type": "markdown",
   "id": "cd3e2146-0f2c-4b96-8734-de105eab6be7",
   "metadata": {},
   "source": [
    "#### Create a visualization of the analysis "
   ]
  },
  {
   "cell_type": "code",
   "execution_count": null,
   "id": "b860a0e3-7808-4927-827a-3e9c4c83d9e5",
   "metadata": {},
   "outputs": [],
   "source": []
  }
 ],
 "metadata": {
  "kernelspec": {
   "display_name": "R",
   "language": "R",
   "name": "ir"
  },
  "language_info": {
   "codemirror_mode": "r",
   "file_extension": ".r",
   "mimetype": "text/x-r-source",
   "name": "R",
   "pygments_lexer": "r",
   "version": "4.1.3"
  }
 },
 "nbformat": 4,
 "nbformat_minor": 5
}
