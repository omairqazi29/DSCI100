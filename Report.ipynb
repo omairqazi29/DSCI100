{
 "cells": [
  {
   "cell_type": "markdown",
   "id": "c19eed28-c40b-4da8-ae38-eda3a20f1a32",
   "metadata": {},
   "source": [
    "#  Glass Classification Report"
   ]
  },
  {
   "cell_type": "markdown",
   "id": "a17fa2dc-32e0-4473-be3d-11d7f4ff5474",
   "metadata": {},
   "source": [
    "## Introduction"
   ]
  },
  {
   "cell_type": "markdown",
   "id": "480e08a7-9e81-4780-b388-1f1ac4e0d0d0",
   "metadata": {},
   "source": [
    "The classification of glass types can be incredibly important during criminological investigations. At the scene of a crime, glass can be used as evidence so it is important to correctly determine if two or more glass fragments originated from different sources. This can lead to identifying methods of escape, murder weapons, and other pieces of conclusive evidence.  \n",
    "\n",
    "Our goal is to create a model that is successful in identifying glass samples obtained from a crime scene based on the weight percentages of 8 corresponding oxides. More specifically, we hope to answer the question: Given the weight percent of 8 glass oxides from a glass sample, which of the 6 glass types is it?  \n",
    "\n",
    "The particular dataset we have chosen comes from the USA Forensic Science Service and classifies 6 types of glass based on their oxide content (see below for more details). The dataset also contains the refractive index of each glass observation.\n",
    "\n",
    "Note that float-processing is a glass manufacturing process that creates a smooth, thick and uniform surface. In this dataset, there is no data for “vehicle_windows_non_float_processed” glass.\n",
    "\n",
    "<b>More details on the glass identification dataset:</b>\n",
    "\n",
    "<b>Glass Oxides (measured in weight percent)</b>\n",
    "<ul>\n",
    "<li>Na: Sodium</li>\n",
    "<li>Mg: Magnesium</li>\n",
    "<li>Al: Aluminum</li>\n",
    "<li>Si: Silicon</li>\n",
    "<li>K: Potassium</li>\n",
    "<li>Ca: Calcium</li>\n",
    "<li>Ba: Barium</li>\n",
    "<li>Fe: Iron</li>\n",
    "</ul>\n",
    "<b>Glass Types</b>\n",
    "<ul>\n",
    "<li>building_windows_float_processed</li>\n",
    "<li>building_windows_non_float_processed</li>\n",
    "<li>vehicle_windows_float_processed</li>\n",
    "<li>vehicle_windows_non_float_processed (**none in this dataset**)</li>\n",
    "<li>containers</li>\n",
    "<li>tableware</li>\n",
    "<li>headlamps</li>\n",
    "</ul>"
   ]
  },
  {
   "cell_type": "markdown",
   "id": "65aeabe3-15ac-4d29-ba66-bd7abbf6690c",
   "metadata": {},
   "source": [
    "## Methods & Results"
   ]
  },
  {
   "cell_type": "code",
   "execution_count": 33,
   "id": "2f600d75-1723-4ace-a964-691bc4e30a80",
   "metadata": {},
   "outputs": [
    {
     "name": "stderr",
     "output_type": "stream",
     "text": [
      "Updating HTML index of packages in '.Library'\n",
      "\n",
      "Making 'packages.html' ...\n",
      " done\n",
      "\n"
     ]
    }
   ],
   "source": [
    "library(tidyverse)\n",
    "library(repr)\n",
    "library(tidymodels)\n",
    "install.packages(\"themis\")\n",
    "library(themis)"
   ]
  },
  {
   "cell_type": "markdown",
   "id": "cfca399c-6c1c-42e2-b2b0-ec1d9943cc9d",
   "metadata": {},
   "source": [
    "#### Load data from the original source on the web "
   ]
  },
  {
   "cell_type": "code",
   "execution_count": 56,
   "id": "84d55db5-c4c9-4583-960c-e3a8a099f810",
   "metadata": {},
   "outputs": [
    {
     "data": {
      "text/html": [
       "<table class=\"dataframe\">\n",
       "<caption>A tibble: 6 × 2</caption>\n",
       "<thead>\n",
       "\t<tr><th scope=col>glass_type</th><th scope=col>count</th></tr>\n",
       "\t<tr><th scope=col>&lt;fct&gt;</th><th scope=col>&lt;int&gt;</th></tr>\n",
       "</thead>\n",
       "<tbody>\n",
       "\t<tr><td>building_windows_float_processed    </td><td>70</td></tr>\n",
       "\t<tr><td>building_windows_non_float_processed</td><td>76</td></tr>\n",
       "\t<tr><td>vehicle_windows_float_processed     </td><td>17</td></tr>\n",
       "\t<tr><td>containers                          </td><td>13</td></tr>\n",
       "\t<tr><td>tableware                           </td><td> 9</td></tr>\n",
       "\t<tr><td>headlamps                           </td><td>29</td></tr>\n",
       "</tbody>\n",
       "</table>\n"
      ],
      "text/latex": [
       "A tibble: 6 × 2\n",
       "\\begin{tabular}{ll}\n",
       " glass\\_type & count\\\\\n",
       " <fct> & <int>\\\\\n",
       "\\hline\n",
       "\t building\\_windows\\_float\\_processed     & 70\\\\\n",
       "\t building\\_windows\\_non\\_float\\_processed & 76\\\\\n",
       "\t vehicle\\_windows\\_float\\_processed      & 17\\\\\n",
       "\t containers                           & 13\\\\\n",
       "\t tableware                            &  9\\\\\n",
       "\t headlamps                            & 29\\\\\n",
       "\\end{tabular}\n"
      ],
      "text/markdown": [
       "\n",
       "A tibble: 6 × 2\n",
       "\n",
       "| glass_type &lt;fct&gt; | count &lt;int&gt; |\n",
       "|---|---|\n",
       "| building_windows_float_processed     | 70 |\n",
       "| building_windows_non_float_processed | 76 |\n",
       "| vehicle_windows_float_processed      | 17 |\n",
       "| containers                           | 13 |\n",
       "| tableware                            |  9 |\n",
       "| headlamps                            | 29 |\n",
       "\n"
      ],
      "text/plain": [
       "  glass_type                           count\n",
       "1 building_windows_float_processed     70   \n",
       "2 building_windows_non_float_processed 76   \n",
       "3 vehicle_windows_float_processed      17   \n",
       "4 containers                           13   \n",
       "5 tableware                             9   \n",
       "6 headlamps                            29   "
      ]
     },
     "metadata": {},
     "output_type": "display_data"
    }
   ],
   "source": [
    "dataset_url <- \"https://archive.ics.uci.edu/ml/machine-learning-databases/glass/glass.data\"\n",
    "col_names <- c(\"id\", \"RI\", \"Na\", \"Mg\", \"Al\", \"Si\", \"K\", \"Ca\", \"Ba\", \"Fe\", \"glass_type\")\n",
    "glass_data_raw <- read.table(dataset_url, sep =\",\", header = FALSE, col.names = col_names) |>\n",
    "    mutate(glass_type = as_factor(glass_type))\n",
    "\n",
    "glass_type_names <- c(\"building_windows_float_processed\", \"building_windows_non_float_processed\", \"vehicle_windows_float_processed\", \"containers\", \"tableware\", \"headlamps\")\n",
    "glass_data_processed <- glass_data_raw |> select(-RI)\n",
    "levels(glass_data_processed$glass_type) <- glass_type_names\n",
    "\n",
    "glass_type_counts <- glass_data_processed |>\n",
    "    group_by(glass_type) |>\n",
    "    summarize(count = n())"
   ]
  },
  {
   "cell_type": "markdown",
   "id": "15b614fe-2871-4330-b176-3bda4d2448ad",
   "metadata": {},
   "source": [
    "\n",
    "### ***note: all tables and figure should have a figure/table number and a legend"
   ]
  },
  {
   "cell_type": "markdown",
   "id": "76abb28d-b0ed-4f0b-8089-d0a8a0d4253b",
   "metadata": {},
   "source": [
    "#### Wrangle and clean the data from its original (downloaded) format to the format necessary for the planned analysis"
   ]
  },
  {
   "cell_type": "markdown",
   "id": "46be65df-710b-4527-815a-a845c3ef1f42",
   "metadata": {},
   "source": [
    "#### Perform a summary of the data set that is relevant for exploratory data analysis related to the planned analysis "
   ]
  },
  {
   "cell_type": "markdown",
   "id": "f19f48f5-86da-4ca7-95b6-63ae0442cc71",
   "metadata": {},
   "source": [
    "#### Create a visualization of the dataset that is relevant for exploratory data analysis related to the planned analysis"
   ]
  },
  {
   "cell_type": "markdown",
   "id": "93f8e16d-d84b-4a9d-a3dd-3107a6f0cd30",
   "metadata": {},
   "source": [
    "#### Perform the data analysis"
   ]
  },
  {
   "cell_type": "code",
   "execution_count": 58,
   "id": "ecfd8af2-892a-4404-aa49-17c23939e255",
   "metadata": {},
   "outputs": [
    {
     "data": {
      "image/png": "[encoded data removed]",
      "text/plain": [
       "plot without title"
      ]
     },
     "metadata": {
      "image/png": {
       "height": 420,
       "width": 420
      }
     },
     "output_type": "display_data"
    }
   ],
   "source": [
    "# wrange data furthur to remove id\n",
    "glass_data <- glass_data_processed |> select(-id)\n",
    "\n",
    "# split dataset into training and testing data\n",
    "# TODO: check if appropriate proportion?\n",
    "glass_split <- initial_split(glass_data, prop = 0.8, strata=glass_type)\n",
    "glass_train <- training(glass_split)\n",
    "glass_test <- testing(glass_split)\n",
    "\n",
    "# Cross validation and tuning to find best k\n",
    "glass_spec <- nearest_neighbor(weight_func=\"rectangular\", neighbors = tune()) |>\n",
    "    set_engine(\"kknn\") |>\n",
    "    set_mode(\"classification\")\n",
    "\n",
    "# TODO: not exactly sure if i should upsample here to balance data, maybe ask TA?\n",
    "glass_recipe <- recipe(glass_type ~ ., data = glass_train) |>\n",
    "    step_scale(all_predictors()) |>\n",
    "    step_center(all_predictors()) |>\n",
    "    step_upsample(glass_type)\n",
    "\n",
    "# 5-fold cross validation\n",
    "vfold <- vfold_cv(glass_train, v=5, strata=glass_type)\n",
    "\n",
    "# neighbors to try\n",
    "# TODO: what should we try here?\n",
    "vals <- tibble(neighbors = seq(from=1, to = 20))\n",
    "\n",
    "knn_results <- workflow() |>\n",
    "    add_recipe(glass_recipe) |>\n",
    "    add_model(glass_spec) |>\n",
    "    tune_grid(resamples = vfold, grid = vals)|>\n",
    "    collect_metrics()\n",
    "\n",
    "accuracies <- knn_results |>\n",
    "    filter(.metric ==\"accuracy\")\n",
    "\n",
    "accuracy_vs_k <- ggplot(accuracies, aes(x = neighbors, y = mean)) +\n",
    "  geom_point() +\n",
    "  geom_line() +\n",
    "  labs(x = \"Neighbors\", y = \"Accuracy Estimate\") + \n",
    "  theme(text = element_text(size = 20))\n",
    "accuracy_vs_k\n",
    "# TODO: might be a good idea to do forward selection to choose a subset of predictors https://datasciencebook.ca/classification2.html#fig:06-fwdsel-3\n",
    "#       but this is probably overkill for this project\n",
    "\n",
    "# we might also want to compare our results to the model that always chooses the most common class\n",
    "\n",
    "\n"
   ]
  },
  {
   "cell_type": "markdown",
   "id": "cd3e2146-0f2c-4b96-8734-de105eab6be7",
   "metadata": {
    "tags": []
   },
   "source": [
    "#### Create a visualization of the analysis "
   ]
  },
  {
   "cell_type": "code",
   "execution_count": null,
   "id": "b860a0e3-7808-4927-827a-3e9c4c83d9e5",
   "metadata": {},
   "outputs": [],
   "source": []
  }
 ],
 "metadata": {
  "kernelspec": {
   "display_name": "R",
   "language": "R",
   "name": "ir"
  },
  "language_info": {
   "codemirror_mode": "r",
   "file_extension": ".r",
   "mimetype": "text/x-r-source",
   "name": "R",
   "pygments_lexer": "r",
   "version": "4.1.3"
  }
 },
 "nbformat": 4,
 "nbformat_minor": 5
}
